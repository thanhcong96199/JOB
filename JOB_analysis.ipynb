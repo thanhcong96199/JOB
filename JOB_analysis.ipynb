{
 "cells": [
  {
   "cell_type": "code",
   "execution_count": 1,
   "metadata": {},
   "outputs": [],
   "source": [
    "import os\n",
    "import pandas as pd\n",
    "import numpy as np\n",
    "import matplotlib.pyplot as plt\n",
    "import seaborn as sns\n",
    "%matplotlib inline\n",
    "\n",
    "plt.rcParams['figure.figsize'] = (8, 6)\n",
    "plt.rcParams['font.size'] = 17\n",
    "\n",
    "data_mywork = pd.read_csv('mywork.csv')\n",
    "data_topdev = pd.read_csv('topdev.csv')\n",
    "frames = [data_mywork, data_topdev]\n",
    "result = pd.concat(frames, sort=False)\n",
    "\n"
   ]
  },
  {
   "cell_type": "code",
   "execution_count": 2,
   "metadata": {},
   "outputs": [
    {
     "data": {
      "text/plain": [
       "Index(['company', 'wage', 'skill', 'address', 'name', 'url'], dtype='object')"
      ]
     },
     "execution_count": 2,
     "metadata": {},
     "output_type": "execute_result"
    }
   ],
   "source": [
    "result.columns"
   ]
  },
  {
   "cell_type": "code",
   "execution_count": 3,
   "metadata": {},
   "outputs": [
    {
     "data": {
      "text/html": [
       "<div>\n",
       "<style scoped>\n",
       "    .dataframe tbody tr th:only-of-type {\n",
       "        vertical-align: middle;\n",
       "    }\n",
       "\n",
       "    .dataframe tbody tr th {\n",
       "        vertical-align: top;\n",
       "    }\n",
       "\n",
       "    .dataframe thead th {\n",
       "        text-align: right;\n",
       "    }\n",
       "</style>\n",
       "<table border=\"1\" class=\"dataframe\">\n",
       "  <thead>\n",
       "    <tr style=\"text-align: right;\">\n",
       "      <th></th>\n",
       "      <th>company</th>\n",
       "      <th>wage</th>\n",
       "      <th>skill</th>\n",
       "      <th>address</th>\n",
       "      <th>name</th>\n",
       "      <th>url</th>\n",
       "    </tr>\n",
       "  </thead>\n",
       "  <tbody>\n",
       "    <tr>\n",
       "      <th>0</th>\n",
       "      <td>Công ty vàng bạc đá quý Bảo Tín Minh Châu</td>\n",
       "      <td>8 triệu - 17 triệu</td>\n",
       "      <td>Chứng khoán - Vàng</td>\n",
       "      <td>Ha Noi</td>\n",
       "      <td>Nhân viên thiết kế 2D-3D (Chuyên thiết kế tran...</td>\n",
       "      <td>https://mywork.com.vn/tuyen-dung/viec-lam/1089...</td>\n",
       "    </tr>\n",
       "    <tr>\n",
       "      <th>1</th>\n",
       "      <td>Công Ty TNHH In Ấn May Mặc Thời Trang Hùng Thiên</td>\n",
       "      <td>7 triệu - 10 triệu</td>\n",
       "      <td>Kiến trúc - Thiết kế nội thất</td>\n",
       "      <td>Ho Chi Minh</td>\n",
       "      <td>Thiết kế đồ họa - thiết kế hoa văn in trên vải</td>\n",
       "      <td>https://mywork.com.vn/tuyen-dung/viec-lam/1206...</td>\n",
       "    </tr>\n",
       "    <tr>\n",
       "      <th>2</th>\n",
       "      <td>Công ty Cổ phần Trực tuyến GOSU</td>\n",
       "      <td>7 triệu - 10 triệu</td>\n",
       "      <td>Thiết kế đồ họa - Web</td>\n",
       "      <td>Thua Thien Hue</td>\n",
       "      <td>Nhân viên Thiết kế</td>\n",
       "      <td>https://mywork.com.vn/tuyen-dung/viec-lam/1223...</td>\n",
       "    </tr>\n",
       "    <tr>\n",
       "      <th>3</th>\n",
       "      <td>Công Ty TNHH  King Car</td>\n",
       "      <td>Thương lượng</td>\n",
       "      <td>Marketing - PR</td>\n",
       "      <td>Ho Chi Minh</td>\n",
       "      <td>Nhân viên Thiết kế đồ họa (Graphic Designer)</td>\n",
       "      <td>https://mywork.com.vn/tuyen-dung/viec-lam/1228...</td>\n",
       "    </tr>\n",
       "    <tr>\n",
       "      <th>4</th>\n",
       "      <td>CÔNG TY TNHH DV TM TẦM NHÌN CHIẾN LƯỢC</td>\n",
       "      <td>Thương lượng</td>\n",
       "      <td>Thiết kế - Mỹ thuật</td>\n",
       "      <td>Ho Chi Minh</td>\n",
       "      <td>[HCM] Designer - Lương Hấp Dẫn</td>\n",
       "      <td>https://mywork.com.vn/tuyen-dung/viec-lam/1055...</td>\n",
       "    </tr>\n",
       "    <tr>\n",
       "      <th>5</th>\n",
       "      <td>Trường Tiểu học Quốc tế Gateway Hải Phòng</td>\n",
       "      <td>7 triệu - 10 triệu</td>\n",
       "      <td>IT phần cứng/mạng</td>\n",
       "      <td>Hai Phong</td>\n",
       "      <td>Nhân viên IT</td>\n",
       "      <td>https://mywork.com.vn/tuyen-dung/viec-lam/1233...</td>\n",
       "    </tr>\n",
       "    <tr>\n",
       "      <th>6</th>\n",
       "      <td>CÔNG TY CỔ PHẦN CƠ KHÍ VIỆT TIN</td>\n",
       "      <td>6 triệu - 8 triệu</td>\n",
       "      <td>Kiến trúc - Thiết kế nội thất</td>\n",
       "      <td>Ho Chi Minh</td>\n",
       "      <td>Thiết Kế Đồ Họa Web</td>\n",
       "      <td>https://mywork.com.vn/tuyen-dung/viec-lam/1235...</td>\n",
       "    </tr>\n",
       "    <tr>\n",
       "      <th>7</th>\n",
       "      <td>Công ty TNHH Dành cho bé yêu</td>\n",
       "      <td>10 triệu - 12 triệu</td>\n",
       "      <td>Thiết kế đồ họa - Web</td>\n",
       "      <td>Ha Noi</td>\n",
       "      <td>Nhân viên Concept Artist</td>\n",
       "      <td>https://mywork.com.vn/tuyen-dung/viec-lam/1231...</td>\n",
       "    </tr>\n",
       "    <tr>\n",
       "      <th>8</th>\n",
       "      <td>Công Ty TNHH thương mại và dịch vụ GE Việt Nam</td>\n",
       "      <td>Thương lượng</td>\n",
       "      <td>IT phần mềm</td>\n",
       "      <td>Bac Ninh</td>\n",
       "      <td>Nhân Viên IT (Android Developers)</td>\n",
       "      <td>https://mywork.com.vn/tuyen-dung/viec-lam/1223...</td>\n",
       "    </tr>\n",
       "    <tr>\n",
       "      <th>9</th>\n",
       "      <td>Công ty TNHH Nghệ Thuật Nam Hải</td>\n",
       "      <td>7 triệu - 10 triệu</td>\n",
       "      <td>Thiết kế - Mỹ thuật</td>\n",
       "      <td>Ho Chi Minh</td>\n",
       "      <td>Nhân Viên Vẽ Chuyển Động Nhân Vật Trong Phim H...</td>\n",
       "      <td>https://mywork.com.vn/tuyen-dung/viec-lam/1231...</td>\n",
       "    </tr>\n",
       "    <tr>\n",
       "      <th>10</th>\n",
       "      <td>Công Ty TNHH Devconnect</td>\n",
       "      <td>7 triệu - 10 triệu</td>\n",
       "      <td>Kiến trúc - Thiết kế nội thất</td>\n",
       "      <td>Ho Chi Minh</td>\n",
       "      <td>Nhân viên thiết kế</td>\n",
       "      <td>https://mywork.com.vn/tuyen-dung/viec-lam/1224...</td>\n",
       "    </tr>\n",
       "    <tr>\n",
       "      <th>11</th>\n",
       "      <td>Công ty Cổ phần Thiết bị Nhà bếp Vi Na</td>\n",
       "      <td>Thương lượng</td>\n",
       "      <td>Thiết kế đồ họa - Web</td>\n",
       "      <td>Ho Chi Minh</td>\n",
       "      <td>Nhân viên Thiết kế đồ họa</td>\n",
       "      <td>https://mywork.com.vn/tuyen-dung/viec-lam/1231...</td>\n",
       "    </tr>\n",
       "    <tr>\n",
       "      <th>12</th>\n",
       "      <td>CÔNG TY CỔ PHẦN CÔNG NGHỆ VÀ DỊCH VỤ VIMOTECH</td>\n",
       "      <td>10 triệu - 12 triệu</td>\n",
       "      <td>IT phần mềm</td>\n",
       "      <td>Ha Noi</td>\n",
       "      <td>Thiết kế đồ họa game</td>\n",
       "      <td>https://mywork.com.vn/tuyen-dung/viec-lam/1231...</td>\n",
       "    </tr>\n",
       "    <tr>\n",
       "      <th>13</th>\n",
       "      <td>Công ty Cổ phần Kiến trúc Kopa</td>\n",
       "      <td>Thương lượng</td>\n",
       "      <td>Kiến trúc - Thiết kế nội thất</td>\n",
       "      <td>Ha Noi</td>\n",
       "      <td>Nhân Viên Thiết Kế Đồ Họa</td>\n",
       "      <td>https://mywork.com.vn/tuyen-dung/viec-lam/1231...</td>\n",
       "    </tr>\n",
       "    <tr>\n",
       "      <th>14</th>\n",
       "      <td>TNHH MTV THỜI TRANG LOLEM</td>\n",
       "      <td>5 triệu - 7 triệu</td>\n",
       "      <td>Thiết kế đồ họa - Web</td>\n",
       "      <td>Da Nang</td>\n",
       "      <td>Chuyên Viên Photoshop Lĩnh vực thời trang</td>\n",
       "      <td>https://mywork.com.vn/tuyen-dung/viec-lam/1229...</td>\n",
       "    </tr>\n",
       "    <tr>\n",
       "      <th>15</th>\n",
       "      <td>Công ty CP KYX</td>\n",
       "      <td>Thương lượng</td>\n",
       "      <td>Thiết kế đồ họa - Web</td>\n",
       "      <td>Ha Noi</td>\n",
       "      <td>Lập trình viên PHP Laravel</td>\n",
       "      <td>https://mywork.com.vn/tuyen-dung/viec-lam/1232...</td>\n",
       "    </tr>\n",
       "    <tr>\n",
       "      <th>16</th>\n",
       "      <td>Công ty cổ phần thiết kế Lục giác</td>\n",
       "      <td>7 triệu - 10 triệu</td>\n",
       "      <td>Kiến trúc - Thiết kế nội thất</td>\n",
       "      <td>Ha Noi</td>\n",
       "      <td>Nhân viên thiết kế nội thất ( showroom, văn ph...</td>\n",
       "      <td>https://mywork.com.vn/tuyen-dung/viec-lam/1220...</td>\n",
       "    </tr>\n",
       "    <tr>\n",
       "      <th>17</th>\n",
       "      <td>IZUMI VIET NAM (I-CUBE VIETNAM COMPANY)</td>\n",
       "      <td>Thương lượng</td>\n",
       "      <td>Thiết kế đồ họa - Web</td>\n",
       "      <td>Ho Chi Minh</td>\n",
       "      <td>GRAPHIC DESIGNER</td>\n",
       "      <td>https://mywork.com.vn/tuyen-dung/viec-lam/1228...</td>\n",
       "    </tr>\n",
       "    <tr>\n",
       "      <th>18</th>\n",
       "      <td>Công ty TNHH cơ Khí Kỹ Thuật Sáng Tạo</td>\n",
       "      <td>7 triệu - 10 triệu</td>\n",
       "      <td>Kiến trúc - Thiết kế nội thất</td>\n",
       "      <td>Ho Chi Minh</td>\n",
       "      <td>Nhân viên thiết kế</td>\n",
       "      <td>https://mywork.com.vn/tuyen-dung/viec-lam/1228...</td>\n",
       "    </tr>\n",
       "    <tr>\n",
       "      <th>19</th>\n",
       "      <td>Công ty CP Truyền Thông SJSoft Việt Nam</td>\n",
       "      <td>Thương lượng</td>\n",
       "      <td>Games</td>\n",
       "      <td>Ha Noi</td>\n",
       "      <td>Game Designer</td>\n",
       "      <td>https://mywork.com.vn/tuyen-dung/viec-lam/1227...</td>\n",
       "    </tr>\n",
       "    <tr>\n",
       "      <th>20</th>\n",
       "      <td>FUHA FARM</td>\n",
       "      <td>12 triệu - 15 triệu</td>\n",
       "      <td>Kiến trúc - Thiết kế nội thất</td>\n",
       "      <td>Ho Chi Minh</td>\n",
       "      <td>THIẾT KẾ BAO BÌ SẢN PHẨM TẠI QUẬN 02</td>\n",
       "      <td>https://mywork.com.vn/tuyen-dung/viec-lam/1226...</td>\n",
       "    </tr>\n",
       "    <tr>\n",
       "      <th>21</th>\n",
       "      <td>Công ty xây dựng Thuận Phước</td>\n",
       "      <td>Thương lượng</td>\n",
       "      <td>Thiết kế đồ họa - Web</td>\n",
       "      <td>Ho Chi Minh</td>\n",
       "      <td>Chuyên Viên Thiết Kế Đồ Họa</td>\n",
       "      <td>https://mywork.com.vn/tuyen-dung/viec-lam/1193...</td>\n",
       "    </tr>\n",
       "    <tr>\n",
       "      <th>22</th>\n",
       "      <td>BDiamond Group</td>\n",
       "      <td>7 triệu - 10 triệu</td>\n",
       "      <td>Kiến trúc - Thiết kế nội thất</td>\n",
       "      <td>Ho Chi Minh</td>\n",
       "      <td>Nhân viên Thiết kế 2D</td>\n",
       "      <td>https://mywork.com.vn/tuyen-dung/viec-lam/1192...</td>\n",
       "    </tr>\n",
       "    <tr>\n",
       "      <th>23</th>\n",
       "      <td>Công ty TNHH Thương mại Điện Tử Cao Tốc</td>\n",
       "      <td>1 triệu - 3 triệu</td>\n",
       "      <td>Thiết kế đồ họa - Web</td>\n",
       "      <td>Ho Chi Minh</td>\n",
       "      <td>Thực tập sinh Chăm sóc khách hàng</td>\n",
       "      <td>https://mywork.com.vn/tuyen-dung/viec-lam/1229...</td>\n",
       "    </tr>\n",
       "    <tr>\n",
       "      <th>24</th>\n",
       "      <td>Trường Đại học Nguyễn Tất Thành</td>\n",
       "      <td>5 triệu - 7 triệu</td>\n",
       "      <td>Kiến trúc - Thiết kế nội thất</td>\n",
       "      <td>Ho Chi Minh</td>\n",
       "      <td>Nhân viên thiết kế trang sức 2D/3D</td>\n",
       "      <td>https://mywork.com.vn/tuyen-dung/viec-lam/1230...</td>\n",
       "    </tr>\n",
       "    <tr>\n",
       "      <th>25</th>\n",
       "      <td>CÔNG TY TNHH DỊCH VỤ QUẢNG CÁO MINH THUẬN</td>\n",
       "      <td>5 triệu - 7 triệu</td>\n",
       "      <td>IT phần mềm</td>\n",
       "      <td>Ho Chi Minh</td>\n",
       "      <td>Nhân Viên Kỹ Thuật Thiết Kế Website</td>\n",
       "      <td>https://mywork.com.vn/tuyen-dung/viec-lam/1229...</td>\n",
       "    </tr>\n",
       "    <tr>\n",
       "      <th>26</th>\n",
       "      <td>Công ty CP tổ hợp công nghiệp xây dựng Nam Hải</td>\n",
       "      <td>Thương lượng</td>\n",
       "      <td>Kiến trúc - Thiết kế nội thất</td>\n",
       "      <td>Ha Noi</td>\n",
       "      <td>Tuyển thiết kế</td>\n",
       "      <td>https://mywork.com.vn/tuyen-dung/viec-lam/1216...</td>\n",
       "    </tr>\n",
       "    <tr>\n",
       "      <th>27</th>\n",
       "      <td>Công ty cổ phần Quốc tế SSKEY</td>\n",
       "      <td>25 triệu - 30 triệu</td>\n",
       "      <td>Hành chính - Văn phòng</td>\n",
       "      <td>Ho Chi Minh</td>\n",
       "      <td>Trưởng phòng Lập trình .NET</td>\n",
       "      <td>https://mywork.com.vn/tuyen-dung/viec-lam/1230...</td>\n",
       "    </tr>\n",
       "    <tr>\n",
       "      <th>28</th>\n",
       "      <td>CK MEDIA</td>\n",
       "      <td>5 triệu - 7 triệu</td>\n",
       "      <td>IT phần mềm</td>\n",
       "      <td>Da Nang</td>\n",
       "      <td>Nhân Viên Thiết Kế Đồ Họa Full Time</td>\n",
       "      <td>https://mywork.com.vn/tuyen-dung/viec-lam/1153...</td>\n",
       "    </tr>\n",
       "    <tr>\n",
       "      <th>29</th>\n",
       "      <td>Công ty CP tổ hợp công nghiệp xây dựng Nam Hải</td>\n",
       "      <td>Thương lượng</td>\n",
       "      <td>Kiến trúc - Thiết kế nội thất</td>\n",
       "      <td>Ha Noi</td>\n",
       "      <td>thiết kế đồ họa</td>\n",
       "      <td>https://mywork.com.vn/tuyen-dung/viec-lam/1218...</td>\n",
       "    </tr>\n",
       "    <tr>\n",
       "      <th>...</th>\n",
       "      <td>...</td>\n",
       "      <td>...</td>\n",
       "      <td>...</td>\n",
       "      <td>...</td>\n",
       "      <td>...</td>\n",
       "      <td>...</td>\n",
       "    </tr>\n",
       "    <tr>\n",
       "      <th>508</th>\n",
       "      <td>Metasource</td>\n",
       "      <td>Negotiable</td>\n",
       "      <td>Java</td>\n",
       "      <td>Ho Chi Minh</td>\n",
       "      <td>(HCM) Back-End Developer (Java)</td>\n",
       "      <td>https://topdev.vn/detail-jobs/hcm-back-end-dev...</td>\n",
       "    </tr>\n",
       "    <tr>\n",
       "      <th>509</th>\n",
       "      <td>MOR</td>\n",
       "      <td>Negotiable</td>\n",
       "      <td>PHP</td>\n",
       "      <td>Ho Chi Minh</td>\n",
       "      <td>(HCM) Back-End Developer (PHP, Python)</td>\n",
       "      <td>https://topdev.vn/detail-jobs/hcm-back-end-dev...</td>\n",
       "    </tr>\n",
       "    <tr>\n",
       "      <th>510</th>\n",
       "      <td>Velotrade</td>\n",
       "      <td>Negotiable</td>\n",
       "      <td>Java</td>\n",
       "      <td>Ho Chi Minh</td>\n",
       "      <td>(HCM) Back-End Developer (Java)</td>\n",
       "      <td>https://topdev.vn/detail-jobs/hcm-back-end-dev...</td>\n",
       "    </tr>\n",
       "    <tr>\n",
       "      <th>511</th>\n",
       "      <td>ezyPLANET</td>\n",
       "      <td>Negotiable</td>\n",
       "      <td>Back-End</td>\n",
       "      <td>Ho Chi Minh</td>\n",
       "      <td>(HCM) Senior Back-End Developer</td>\n",
       "      <td>https://topdev.vn/detail-jobs/hcm-senior-back-...</td>\n",
       "    </tr>\n",
       "    <tr>\n",
       "      <th>512</th>\n",
       "      <td>The Ref. Office of STYL Solutions Pte. Ltd. In...</td>\n",
       "      <td>Negotiable</td>\n",
       "      <td>PHP</td>\n",
       "      <td>Ho Chi Minh</td>\n",
       "      <td>(HCM) Back-End Developer (PHP, Java)</td>\n",
       "      <td>https://topdev.vn/detail-jobs/hcm-back-end-dev...</td>\n",
       "    </tr>\n",
       "    <tr>\n",
       "      <th>513</th>\n",
       "      <td>Tima Group</td>\n",
       "      <td>Negotiable</td>\n",
       "      <td>NodeJS</td>\n",
       "      <td>Ha Noi</td>\n",
       "      <td>(HN) Back-End Developer (NodeJS)</td>\n",
       "      <td>https://topdev.vn/detail-jobs/hn-back-end-deve...</td>\n",
       "    </tr>\n",
       "    <tr>\n",
       "      <th>514</th>\n",
       "      <td>Midas Protocol</td>\n",
       "      <td>Negotiable</td>\n",
       "      <td>Python</td>\n",
       "      <td>Ha Noi</td>\n",
       "      <td>(HN) 02 Back-End Developer (Python)</td>\n",
       "      <td>https://topdev.vn/detail-jobs/hn-02-back-end-d...</td>\n",
       "    </tr>\n",
       "    <tr>\n",
       "      <th>515</th>\n",
       "      <td>Lush Era Vietnam</td>\n",
       "      <td>Negotiable</td>\n",
       "      <td>PHP</td>\n",
       "      <td>Ho Chi Minh</td>\n",
       "      <td>(HN) PHP Developer</td>\n",
       "      <td>https://topdev.vn/detail-jobs/hn-php-developer...</td>\n",
       "    </tr>\n",
       "    <tr>\n",
       "      <th>516</th>\n",
       "      <td>Nam Long JSC</td>\n",
       "      <td>Negotiable</td>\n",
       "      <td>Java</td>\n",
       "      <td>Ha Noi</td>\n",
       "      <td>(HN) Back-End Developer (Java)</td>\n",
       "      <td>https://topdev.vn/detail-jobs/hn-back-end-deve...</td>\n",
       "    </tr>\n",
       "    <tr>\n",
       "      <th>517</th>\n",
       "      <td>User Experience Researchers</td>\n",
       "      <td>Negotiable</td>\n",
       "      <td>Front-End</td>\n",
       "      <td>Ho Chi Minh</td>\n",
       "      <td>(HCM)  Full-Stack Developer (Front-End, Back-End)</td>\n",
       "      <td>https://topdev.vn/detail-jobs/hcm-full-stack-d...</td>\n",
       "    </tr>\n",
       "    <tr>\n",
       "      <th>518</th>\n",
       "      <td>i3 DVR International</td>\n",
       "      <td>Up to $1,200</td>\n",
       "      <td>JavaScript</td>\n",
       "      <td>Ho Chi Minh</td>\n",
       "      <td>(HCM) Full-Stack Developer (JavaScript, .NET)</td>\n",
       "      <td>https://topdev.vn/detail-jobs/hcm-full-stack-d...</td>\n",
       "    </tr>\n",
       "    <tr>\n",
       "      <th>519</th>\n",
       "      <td>3FORCOM</td>\n",
       "      <td>Negotiable</td>\n",
       "      <td>JavaScript</td>\n",
       "      <td>Ho Chi Minh</td>\n",
       "      <td>(HCM) NodeJS Developer (JavaScript)</td>\n",
       "      <td>https://topdev.vn/detail-jobs/hcm-nodejs-devel...</td>\n",
       "    </tr>\n",
       "    <tr>\n",
       "      <th>520</th>\n",
       "      <td>Codix</td>\n",
       "      <td>Up to $1,800</td>\n",
       "      <td>AngularJS</td>\n",
       "      <td>Ho Chi Minh</td>\n",
       "      <td>(HCM) Front-end Developer (AngularJS, JavaScript)</td>\n",
       "      <td>https://topdev.vn/detail-jobs/hcm-front-end-de...</td>\n",
       "    </tr>\n",
       "    <tr>\n",
       "      <th>521</th>\n",
       "      <td>Ryukyu Interactive Vietnam</td>\n",
       "      <td>Up to $1,500</td>\n",
       "      <td>PHP</td>\n",
       "      <td>Ho Chi Minh</td>\n",
       "      <td>(HCM) Senior Web Developer (PHP, JavaScript)</td>\n",
       "      <td>https://topdev.vn/detail-jobs/hcm-senior-web-d...</td>\n",
       "    </tr>\n",
       "    <tr>\n",
       "      <th>522</th>\n",
       "      <td>New Pinetech</td>\n",
       "      <td>Negotiable</td>\n",
       "      <td>CSS</td>\n",
       "      <td>Ho Chi Minh</td>\n",
       "      <td>(HCM) Front-end Developer (CSS, HTML5, JavaScr...</td>\n",
       "      <td>https://topdev.vn/detail-jobs/hcm-front-end-de...</td>\n",
       "    </tr>\n",
       "    <tr>\n",
       "      <th>523</th>\n",
       "      <td>ELCOM Corp. (HCM Branch)</td>\n",
       "      <td>Negotiable</td>\n",
       "      <td>HTML5</td>\n",
       "      <td>Ho Chi Minh</td>\n",
       "      <td>(HCM) Front-end Developer (HTML5, JavaScript)</td>\n",
       "      <td>https://topdev.vn/detail-jobs/hcm-front-end-de...</td>\n",
       "    </tr>\n",
       "    <tr>\n",
       "      <th>524</th>\n",
       "      <td>Giải Pháp Công Nghệ DHN</td>\n",
       "      <td>$700 - $1,500</td>\n",
       "      <td>JavaScript</td>\n",
       "      <td>Ho Chi Minh</td>\n",
       "      <td>(HCM) 04 NodeJS Developers (JavaScript)</td>\n",
       "      <td>https://topdev.vn/detail-jobs/hcm-04-nodejs-de...</td>\n",
       "    </tr>\n",
       "    <tr>\n",
       "      <th>525</th>\n",
       "      <td>Shopee</td>\n",
       "      <td>$3,500 - $5,500</td>\n",
       "      <td>HTML5</td>\n",
       "      <td>Ho Chi Minh</td>\n",
       "      <td>(HCM) Front-end Developer (HTML5, JavaScript, ...</td>\n",
       "      <td>https://topdev.vn/detail-jobs/hcm-front-end-de...</td>\n",
       "    </tr>\n",
       "    <tr>\n",
       "      <th>526</th>\n",
       "      <td>Simplypost</td>\n",
       "      <td>Negotiable</td>\n",
       "      <td>NodeJS</td>\n",
       "      <td>Ho Chi Minh</td>\n",
       "      <td>(HCM) Back-End Developer (all levels, $2,500) ...</td>\n",
       "      <td>https://topdev.vn/detail-jobs/hcm-back-end-dev...</td>\n",
       "    </tr>\n",
       "    <tr>\n",
       "      <th>527</th>\n",
       "      <td>ANTS</td>\n",
       "      <td>Up to $1,500</td>\n",
       "      <td>PHP</td>\n",
       "      <td>Ho Chi Minh</td>\n",
       "      <td>(HCM) Back-end PHP Developer (JavaScript, MySQL)</td>\n",
       "      <td>https://topdev.vn/detail-jobs/hcm-back-end-php...</td>\n",
       "    </tr>\n",
       "    <tr>\n",
       "      <th>528</th>\n",
       "      <td>Knorex</td>\n",
       "      <td>Negotiable</td>\n",
       "      <td>AngularJS</td>\n",
       "      <td>Ho Chi Minh</td>\n",
       "      <td>(HCM) Full-Stack Engineer (AngularJS, NodeJS)</td>\n",
       "      <td>https://topdev.vn/detail-jobs/hcm-full-stack-e...</td>\n",
       "    </tr>\n",
       "    <tr>\n",
       "      <th>529</th>\n",
       "      <td>Cloud Nine Solutions</td>\n",
       "      <td>Negotiable</td>\n",
       "      <td>PHP</td>\n",
       "      <td>Ho Chi Minh</td>\n",
       "      <td>(HCM) Web Developer (PHP, Java, NodeJS)</td>\n",
       "      <td>https://topdev.vn/detail-jobs/hcm-web-develope...</td>\n",
       "    </tr>\n",
       "    <tr>\n",
       "      <th>530</th>\n",
       "      <td>New Pinetech</td>\n",
       "      <td>Negotiable</td>\n",
       "      <td>PHP</td>\n",
       "      <td>Ho Chi Minh</td>\n",
       "      <td>(HCM) Back-End Developer (PHP, Java, NodeJS)</td>\n",
       "      <td>https://topdev.vn/detail-jobs/hcm-back-end-dev...</td>\n",
       "    </tr>\n",
       "    <tr>\n",
       "      <th>531</th>\n",
       "      <td>Trường học Thông Minh</td>\n",
       "      <td>Negotiable</td>\n",
       "      <td>JavaScript</td>\n",
       "      <td>Ha Noi</td>\n",
       "      <td>(HN) 03 JavaScript Developers (NodeJS)</td>\n",
       "      <td>https://topdev.vn/detail-jobs/hn-03-javascript...</td>\n",
       "    </tr>\n",
       "    <tr>\n",
       "      <th>532</th>\n",
       "      <td>Vinova</td>\n",
       "      <td>Up to $1,500</td>\n",
       "      <td>Android</td>\n",
       "      <td>Ho Chi Minh</td>\n",
       "      <td>(HCM) Android Mobile Developer</td>\n",
       "      <td>https://topdev.vn/detail-jobs/hcm-android-mobi...</td>\n",
       "    </tr>\n",
       "    <tr>\n",
       "      <th>533</th>\n",
       "      <td>Seesaa vietnam</td>\n",
       "      <td>Up to $1,100</td>\n",
       "      <td>Swift</td>\n",
       "      <td>Ha Noi</td>\n",
       "      <td>(HN)  iOS Developer (Swift, Mobile)</td>\n",
       "      <td>https://topdev.vn/detail-jobs/hn-ios-developer...</td>\n",
       "    </tr>\n",
       "    <tr>\n",
       "      <th>534</th>\n",
       "      <td>DTH Viet Nam Group</td>\n",
       "      <td>Negotiable</td>\n",
       "      <td>NodeJS</td>\n",
       "      <td>Ha Noi</td>\n",
       "      <td>(HN) Web Developer (NodeJS)</td>\n",
       "      <td>https://topdev.vn/detail-jobs/hn-web-developer...</td>\n",
       "    </tr>\n",
       "    <tr>\n",
       "      <th>535</th>\n",
       "      <td>NaviWorld</td>\n",
       "      <td>Negotiable</td>\n",
       "      <td>Android</td>\n",
       "      <td>Ha Noi</td>\n",
       "      <td>(HN) 05 Junior Mobile App Developers (Android,...</td>\n",
       "      <td>https://topdev.vn/detail-jobs/hn-05-junior-mob...</td>\n",
       "    </tr>\n",
       "    <tr>\n",
       "      <th>536</th>\n",
       "      <td>Step Up English</td>\n",
       "      <td>$1,000 - $1,500</td>\n",
       "      <td>Android</td>\n",
       "      <td>Ha Noi</td>\n",
       "      <td>(HN) Mobile Apps Developer (Android, iOS)</td>\n",
       "      <td>https://topdev.vn/detail-jobs/hn-mobile-apps-d...</td>\n",
       "    </tr>\n",
       "    <tr>\n",
       "      <th>537</th>\n",
       "      <td>Zitga Studios</td>\n",
       "      <td>Negotiable</td>\n",
       "      <td>Game</td>\n",
       "      <td>Ha Noi</td>\n",
       "      <td>(HN) Mobile Game Tester</td>\n",
       "      <td>https://topdev.vn/detail-jobs/hn-mobile-game-t...</td>\n",
       "    </tr>\n",
       "  </tbody>\n",
       "</table>\n",
       "<p>927 rows × 6 columns</p>\n",
       "</div>"
      ],
      "text/plain": [
       "                                               company                 wage  \\\n",
       "0            Công ty vàng bạc đá quý Bảo Tín Minh Châu   8 triệu - 17 triệu   \n",
       "1     Công Ty TNHH In Ấn May Mặc Thời Trang Hùng Thiên   7 triệu - 10 triệu   \n",
       "2                      Công ty Cổ phần Trực tuyến GOSU   7 triệu - 10 triệu   \n",
       "3                               Công Ty TNHH  King Car         Thương lượng   \n",
       "4               CÔNG TY TNHH DV TM TẦM NHÌN CHIẾN LƯỢC         Thương lượng   \n",
       "5            Trường Tiểu học Quốc tế Gateway Hải Phòng   7 triệu - 10 triệu   \n",
       "6                      CÔNG TY CỔ PHẦN CƠ KHÍ VIỆT TIN    6 triệu - 8 triệu   \n",
       "7                         Công ty TNHH Dành cho bé yêu  10 triệu - 12 triệu   \n",
       "8       Công Ty TNHH thương mại và dịch vụ GE Việt Nam         Thương lượng   \n",
       "9                   Công ty TNHH Nghệ Thuật Nam Hải   7 triệu - 10 triệu   \n",
       "10                             Công Ty TNHH Devconnect   7 triệu - 10 triệu   \n",
       "11              Công ty Cổ phần Thiết bị Nhà bếp Vi Na         Thương lượng   \n",
       "12       CÔNG TY CỔ PHẦN CÔNG NGHỆ VÀ DỊCH VỤ VIMOTECH  10 triệu - 12 triệu   \n",
       "13                      Công ty Cổ phần Kiến trúc Kopa         Thương lượng   \n",
       "14                           TNHH MTV THỜI TRANG LOLEM    5 triệu - 7 triệu   \n",
       "15                                      Công ty CP KYX         Thương lượng   \n",
       "16                   Công ty cổ phần thiết kế Lục giác   7 triệu - 10 triệu   \n",
       "17             IZUMI VIET NAM (I-CUBE VIETNAM COMPANY)         Thương lượng   \n",
       "18               Công ty TNHH cơ Khí Kỹ Thuật Sáng Tạo   7 triệu - 10 triệu   \n",
       "19             Công ty CP Truyền Thông SJSoft Việt Nam         Thương lượng   \n",
       "20                                           FUHA FARM  12 triệu - 15 triệu   \n",
       "21                        Công ty xây dựng Thuận Phước         Thương lượng   \n",
       "22                                      BDiamond Group   7 triệu - 10 triệu   \n",
       "23             Công ty TNHH Thương mại Điện Tử Cao Tốc    1 triệu - 3 triệu   \n",
       "24                     Trường Đại học Nguyễn Tất Thành    5 triệu - 7 triệu   \n",
       "25           CÔNG TY TNHH DỊCH VỤ QUẢNG CÁO MINH THUẬN    5 triệu - 7 triệu   \n",
       "26      Công ty CP tổ hợp công nghiệp xây dựng Nam Hải         Thương lượng   \n",
       "27                       Công ty cổ phần Quốc tế SSKEY  25 triệu - 30 triệu   \n",
       "28                                            CK MEDIA    5 triệu - 7 triệu   \n",
       "29      Công ty CP tổ hợp công nghiệp xây dựng Nam Hải         Thương lượng   \n",
       "..                                                 ...                  ...   \n",
       "508                                         Metasource           Negotiable   \n",
       "509                                                MOR           Negotiable   \n",
       "510                                          Velotrade           Negotiable   \n",
       "511                                          ezyPLANET           Negotiable   \n",
       "512  The Ref. Office of STYL Solutions Pte. Ltd. In...           Negotiable   \n",
       "513                                         Tima Group           Negotiable   \n",
       "514                                     Midas Protocol           Negotiable   \n",
       "515                                   Lush Era Vietnam           Negotiable   \n",
       "516                                       Nam Long JSC           Negotiable   \n",
       "517                        User Experience Researchers           Negotiable   \n",
       "518                               i3 DVR International         Up to $1,200   \n",
       "519                                            3FORCOM           Negotiable   \n",
       "520                                              Codix         Up to $1,800   \n",
       "521                         Ryukyu Interactive Vietnam         Up to $1,500   \n",
       "522                                       New Pinetech           Negotiable   \n",
       "523                           ELCOM Corp. (HCM Branch)           Negotiable   \n",
       "524                            Giải Pháp Công Nghệ DHN        $700 - $1,500   \n",
       "525                                             Shopee      $3,500 - $5,500   \n",
       "526                                         Simplypost           Negotiable   \n",
       "527                                               ANTS         Up to $1,500   \n",
       "528                                             Knorex           Negotiable   \n",
       "529                               Cloud Nine Solutions           Negotiable   \n",
       "530                                       New Pinetech           Negotiable   \n",
       "531                              Trường học Thông Minh           Negotiable   \n",
       "532                                             Vinova         Up to $1,500   \n",
       "533                                     Seesaa vietnam         Up to $1,100   \n",
       "534                                 DTH Viet Nam Group           Negotiable   \n",
       "535                                          NaviWorld           Negotiable   \n",
       "536                                    Step Up English      $1,000 - $1,500   \n",
       "537                                      Zitga Studios           Negotiable   \n",
       "\n",
       "                             skill         address  \\\n",
       "0               Chứng khoán - Vàng          Ha Noi   \n",
       "1    Kiến trúc - Thiết kế nội thất     Ho Chi Minh   \n",
       "2            Thiết kế đồ họa - Web  Thua Thien Hue   \n",
       "3                   Marketing - PR     Ho Chi Minh   \n",
       "4              Thiết kế - Mỹ thuật     Ho Chi Minh   \n",
       "5                IT phần cứng/mạng       Hai Phong   \n",
       "6    Kiến trúc - Thiết kế nội thất     Ho Chi Minh   \n",
       "7            Thiết kế đồ họa - Web          Ha Noi   \n",
       "8                      IT phần mềm        Bac Ninh   \n",
       "9              Thiết kế - Mỹ thuật     Ho Chi Minh   \n",
       "10   Kiến trúc - Thiết kế nội thất     Ho Chi Minh   \n",
       "11           Thiết kế đồ họa - Web     Ho Chi Minh   \n",
       "12                     IT phần mềm          Ha Noi   \n",
       "13   Kiến trúc - Thiết kế nội thất          Ha Noi   \n",
       "14           Thiết kế đồ họa - Web         Da Nang   \n",
       "15           Thiết kế đồ họa - Web          Ha Noi   \n",
       "16   Kiến trúc - Thiết kế nội thất          Ha Noi   \n",
       "17           Thiết kế đồ họa - Web     Ho Chi Minh   \n",
       "18   Kiến trúc - Thiết kế nội thất     Ho Chi Minh   \n",
       "19                           Games          Ha Noi   \n",
       "20   Kiến trúc - Thiết kế nội thất     Ho Chi Minh   \n",
       "21           Thiết kế đồ họa - Web     Ho Chi Minh   \n",
       "22   Kiến trúc - Thiết kế nội thất     Ho Chi Minh   \n",
       "23           Thiết kế đồ họa - Web     Ho Chi Minh   \n",
       "24   Kiến trúc - Thiết kế nội thất     Ho Chi Minh   \n",
       "25                     IT phần mềm     Ho Chi Minh   \n",
       "26   Kiến trúc - Thiết kế nội thất          Ha Noi   \n",
       "27          Hành chính - Văn phòng     Ho Chi Minh   \n",
       "28                     IT phần mềm         Da Nang   \n",
       "29   Kiến trúc - Thiết kế nội thất          Ha Noi   \n",
       "..                             ...             ...   \n",
       "508                           Java     Ho Chi Minh   \n",
       "509                            PHP     Ho Chi Minh   \n",
       "510                           Java     Ho Chi Minh   \n",
       "511                       Back-End     Ho Chi Minh   \n",
       "512                            PHP     Ho Chi Minh   \n",
       "513                         NodeJS          Ha Noi   \n",
       "514                         Python          Ha Noi   \n",
       "515                            PHP     Ho Chi Minh   \n",
       "516                           Java          Ha Noi   \n",
       "517                      Front-End     Ho Chi Minh   \n",
       "518                     JavaScript     Ho Chi Minh   \n",
       "519                     JavaScript     Ho Chi Minh   \n",
       "520                      AngularJS     Ho Chi Minh   \n",
       "521                            PHP     Ho Chi Minh   \n",
       "522                            CSS     Ho Chi Minh   \n",
       "523                          HTML5     Ho Chi Minh   \n",
       "524                     JavaScript     Ho Chi Minh   \n",
       "525                          HTML5     Ho Chi Minh   \n",
       "526                         NodeJS     Ho Chi Minh   \n",
       "527                            PHP     Ho Chi Minh   \n",
       "528                      AngularJS     Ho Chi Minh   \n",
       "529                            PHP     Ho Chi Minh   \n",
       "530                            PHP     Ho Chi Minh   \n",
       "531                     JavaScript          Ha Noi   \n",
       "532                        Android     Ho Chi Minh   \n",
       "533                          Swift          Ha Noi   \n",
       "534                         NodeJS          Ha Noi   \n",
       "535                        Android          Ha Noi   \n",
       "536                        Android          Ha Noi   \n",
       "537                           Game          Ha Noi   \n",
       "\n",
       "                                                  name  \\\n",
       "0    Nhân viên thiết kế 2D-3D (Chuyên thiết kế tran...   \n",
       "1       Thiết kế đồ họa - thiết kế hoa văn in trên vải   \n",
       "2                                   Nhân viên Thiết kế   \n",
       "3         Nhân viên Thiết kế đồ họa (Graphic Designer)   \n",
       "4                       [HCM] Designer - Lương Hấp Dẫn   \n",
       "5                                         Nhân viên IT   \n",
       "6                                  Thiết Kế Đồ Họa Web   \n",
       "7                             Nhân viên Concept Artist   \n",
       "8                    Nhân Viên IT (Android Developers)   \n",
       "9    Nhân Viên Vẽ Chuyển Động Nhân Vật Trong Phim H...   \n",
       "10                                  Nhân viên thiết kế   \n",
       "11                           Nhân viên Thiết kế đồ họa   \n",
       "12                                Thiết kế đồ họa game   \n",
       "13                           Nhân Viên Thiết Kế Đồ Họa   \n",
       "14           Chuyên Viên Photoshop Lĩnh vực thời trang   \n",
       "15                          Lập trình viên PHP Laravel   \n",
       "16   Nhân viên thiết kế nội thất ( showroom, văn ph...   \n",
       "17                                    GRAPHIC DESIGNER   \n",
       "18                                  Nhân viên thiết kế   \n",
       "19                                       Game Designer   \n",
       "20                THIẾT KẾ BAO BÌ SẢN PHẨM TẠI QUẬN 02   \n",
       "21                         Chuyên Viên Thiết Kế Đồ Họa   \n",
       "22                               Nhân viên Thiết kế 2D   \n",
       "23                   Thực tập sinh Chăm sóc khách hàng   \n",
       "24                  Nhân viên thiết kế trang sức 2D/3D   \n",
       "25                 Nhân Viên Kỹ Thuật Thiết Kế Website   \n",
       "26                                      Tuyển thiết kế   \n",
       "27                         Trưởng phòng Lập trình .NET   \n",
       "28                 Nhân Viên Thiết Kế Đồ Họa Full Time   \n",
       "29                                     thiết kế đồ họa   \n",
       "..                                                 ...   \n",
       "508                    (HCM) Back-End Developer (Java)   \n",
       "509             (HCM) Back-End Developer (PHP, Python)   \n",
       "510                    (HCM) Back-End Developer (Java)   \n",
       "511                    (HCM) Senior Back-End Developer   \n",
       "512               (HCM) Back-End Developer (PHP, Java)   \n",
       "513                   (HN) Back-End Developer (NodeJS)   \n",
       "514                (HN) 02 Back-End Developer (Python)   \n",
       "515                                 (HN) PHP Developer   \n",
       "516                     (HN) Back-End Developer (Java)   \n",
       "517  (HCM)  Full-Stack Developer (Front-End, Back-End)   \n",
       "518      (HCM) Full-Stack Developer (JavaScript, .NET)   \n",
       "519                (HCM) NodeJS Developer (JavaScript)   \n",
       "520  (HCM) Front-end Developer (AngularJS, JavaScript)   \n",
       "521       (HCM) Senior Web Developer (PHP, JavaScript)   \n",
       "522  (HCM) Front-end Developer (CSS, HTML5, JavaScr...   \n",
       "523      (HCM) Front-end Developer (HTML5, JavaScript)   \n",
       "524            (HCM) 04 NodeJS Developers (JavaScript)   \n",
       "525  (HCM) Front-end Developer (HTML5, JavaScript, ...   \n",
       "526  (HCM) Back-End Developer (all levels, $2,500) ...   \n",
       "527   (HCM) Back-end PHP Developer (JavaScript, MySQL)   \n",
       "528      (HCM) Full-Stack Engineer (AngularJS, NodeJS)   \n",
       "529            (HCM) Web Developer (PHP, Java, NodeJS)   \n",
       "530       (HCM) Back-End Developer (PHP, Java, NodeJS)   \n",
       "531             (HN) 03 JavaScript Developers (NodeJS)   \n",
       "532                     (HCM) Android Mobile Developer   \n",
       "533                (HN)  iOS Developer (Swift, Mobile)   \n",
       "534                        (HN) Web Developer (NodeJS)   \n",
       "535  (HN) 05 Junior Mobile App Developers (Android,...   \n",
       "536          (HN) Mobile Apps Developer (Android, iOS)   \n",
       "537                            (HN) Mobile Game Tester   \n",
       "\n",
       "                                                   url  \n",
       "0    https://mywork.com.vn/tuyen-dung/viec-lam/1089...  \n",
       "1    https://mywork.com.vn/tuyen-dung/viec-lam/1206...  \n",
       "2    https://mywork.com.vn/tuyen-dung/viec-lam/1223...  \n",
       "3    https://mywork.com.vn/tuyen-dung/viec-lam/1228...  \n",
       "4    https://mywork.com.vn/tuyen-dung/viec-lam/1055...  \n",
       "5    https://mywork.com.vn/tuyen-dung/viec-lam/1233...  \n",
       "6    https://mywork.com.vn/tuyen-dung/viec-lam/1235...  \n",
       "7    https://mywork.com.vn/tuyen-dung/viec-lam/1231...  \n",
       "8    https://mywork.com.vn/tuyen-dung/viec-lam/1223...  \n",
       "9    https://mywork.com.vn/tuyen-dung/viec-lam/1231...  \n",
       "10   https://mywork.com.vn/tuyen-dung/viec-lam/1224...  \n",
       "11   https://mywork.com.vn/tuyen-dung/viec-lam/1231...  \n",
       "12   https://mywork.com.vn/tuyen-dung/viec-lam/1231...  \n",
       "13   https://mywork.com.vn/tuyen-dung/viec-lam/1231...  \n",
       "14   https://mywork.com.vn/tuyen-dung/viec-lam/1229...  \n",
       "15   https://mywork.com.vn/tuyen-dung/viec-lam/1232...  \n",
       "16   https://mywork.com.vn/tuyen-dung/viec-lam/1220...  \n",
       "17   https://mywork.com.vn/tuyen-dung/viec-lam/1228...  \n",
       "18   https://mywork.com.vn/tuyen-dung/viec-lam/1228...  \n",
       "19   https://mywork.com.vn/tuyen-dung/viec-lam/1227...  \n",
       "20   https://mywork.com.vn/tuyen-dung/viec-lam/1226...  \n",
       "21   https://mywork.com.vn/tuyen-dung/viec-lam/1193...  \n",
       "22   https://mywork.com.vn/tuyen-dung/viec-lam/1192...  \n",
       "23   https://mywork.com.vn/tuyen-dung/viec-lam/1229...  \n",
       "24   https://mywork.com.vn/tuyen-dung/viec-lam/1230...  \n",
       "25   https://mywork.com.vn/tuyen-dung/viec-lam/1229...  \n",
       "26   https://mywork.com.vn/tuyen-dung/viec-lam/1216...  \n",
       "27   https://mywork.com.vn/tuyen-dung/viec-lam/1230...  \n",
       "28   https://mywork.com.vn/tuyen-dung/viec-lam/1153...  \n",
       "29   https://mywork.com.vn/tuyen-dung/viec-lam/1218...  \n",
       "..                                                 ...  \n",
       "508  https://topdev.vn/detail-jobs/hcm-back-end-dev...  \n",
       "509  https://topdev.vn/detail-jobs/hcm-back-end-dev...  \n",
       "510  https://topdev.vn/detail-jobs/hcm-back-end-dev...  \n",
       "511  https://topdev.vn/detail-jobs/hcm-senior-back-...  \n",
       "512  https://topdev.vn/detail-jobs/hcm-back-end-dev...  \n",
       "513  https://topdev.vn/detail-jobs/hn-back-end-deve...  \n",
       "514  https://topdev.vn/detail-jobs/hn-02-back-end-d...  \n",
       "515  https://topdev.vn/detail-jobs/hn-php-developer...  \n",
       "516  https://topdev.vn/detail-jobs/hn-back-end-deve...  \n",
       "517  https://topdev.vn/detail-jobs/hcm-full-stack-d...  \n",
       "518  https://topdev.vn/detail-jobs/hcm-full-stack-d...  \n",
       "519  https://topdev.vn/detail-jobs/hcm-nodejs-devel...  \n",
       "520  https://topdev.vn/detail-jobs/hcm-front-end-de...  \n",
       "521  https://topdev.vn/detail-jobs/hcm-senior-web-d...  \n",
       "522  https://topdev.vn/detail-jobs/hcm-front-end-de...  \n",
       "523  https://topdev.vn/detail-jobs/hcm-front-end-de...  \n",
       "524  https://topdev.vn/detail-jobs/hcm-04-nodejs-de...  \n",
       "525  https://topdev.vn/detail-jobs/hcm-front-end-de...  \n",
       "526  https://topdev.vn/detail-jobs/hcm-back-end-dev...  \n",
       "527  https://topdev.vn/detail-jobs/hcm-back-end-php...  \n",
       "528  https://topdev.vn/detail-jobs/hcm-full-stack-e...  \n",
       "529  https://topdev.vn/detail-jobs/hcm-web-develope...  \n",
       "530  https://topdev.vn/detail-jobs/hcm-back-end-dev...  \n",
       "531  https://topdev.vn/detail-jobs/hn-03-javascript...  \n",
       "532  https://topdev.vn/detail-jobs/hcm-android-mobi...  \n",
       "533  https://topdev.vn/detail-jobs/hn-ios-developer...  \n",
       "534  https://topdev.vn/detail-jobs/hn-web-developer...  \n",
       "535  https://topdev.vn/detail-jobs/hn-05-junior-mob...  \n",
       "536  https://topdev.vn/detail-jobs/hn-mobile-apps-d...  \n",
       "537  https://topdev.vn/detail-jobs/hn-mobile-game-t...  \n",
       "\n",
       "[927 rows x 6 columns]"
      ]
     },
     "execution_count": 3,
     "metadata": {},
     "output_type": "execute_result"
    }
   ],
   "source": [
    "result"
   ]
  },
  {
   "cell_type": "code",
   "execution_count": 4,
   "metadata": {},
   "outputs": [
    {
     "data": {
      "text/plain": [
       "(927, 6)"
      ]
     },
     "execution_count": 4,
     "metadata": {},
     "output_type": "execute_result"
    }
   ],
   "source": [
    "# Tong hop du lieu 2 web\n",
    "result.shape"
   ]
  },
  {
   "cell_type": "code",
   "execution_count": null,
   "metadata": {},
   "outputs": [],
   "source": []
  },
  {
   "cell_type": "code",
   "execution_count": 5,
   "metadata": {},
   "outputs": [
    {
     "data": {
      "text/html": [
       "<div>\n",
       "<style scoped>\n",
       "    .dataframe tbody tr th:only-of-type {\n",
       "        vertical-align: middle;\n",
       "    }\n",
       "\n",
       "    .dataframe tbody tr th {\n",
       "        vertical-align: top;\n",
       "    }\n",
       "\n",
       "    .dataframe thead th {\n",
       "        text-align: right;\n",
       "    }\n",
       "</style>\n",
       "<table border=\"1\" class=\"dataframe\">\n",
       "  <thead>\n",
       "    <tr style=\"text-align: right;\">\n",
       "      <th></th>\n",
       "      <th>company</th>\n",
       "      <th>wage</th>\n",
       "      <th>skill</th>\n",
       "      <th>address</th>\n",
       "      <th>name</th>\n",
       "      <th>url</th>\n",
       "    </tr>\n",
       "  </thead>\n",
       "  <tbody>\n",
       "    <tr>\n",
       "      <th>count</th>\n",
       "      <td>908</td>\n",
       "      <td>908</td>\n",
       "      <td>908</td>\n",
       "      <td>907</td>\n",
       "      <td>908</td>\n",
       "      <td>908</td>\n",
       "    </tr>\n",
       "    <tr>\n",
       "      <th>unique</th>\n",
       "      <td>699</td>\n",
       "      <td>111</td>\n",
       "      <td>77</td>\n",
       "      <td>21</td>\n",
       "      <td>781</td>\n",
       "      <td>908</td>\n",
       "    </tr>\n",
       "    <tr>\n",
       "      <th>top</th>\n",
       "      <td>Tập đoàn CNTT Truyền thông Quảng cáo Việt Tiến...</td>\n",
       "      <td>Negotiable</td>\n",
       "      <td>PHP</td>\n",
       "      <td>Ho Chi Minh</td>\n",
       "      <td>Nhân viên thiết kế</td>\n",
       "      <td>https://topdev.vn/detail-jobs/hcm-back-end-dev...</td>\n",
       "    </tr>\n",
       "    <tr>\n",
       "      <th>freq</th>\n",
       "      <td>6</td>\n",
       "      <td>328</td>\n",
       "      <td>95</td>\n",
       "      <td>495</td>\n",
       "      <td>20</td>\n",
       "      <td>1</td>\n",
       "    </tr>\n",
       "  </tbody>\n",
       "</table>\n",
       "</div>"
      ],
      "text/plain": [
       "                                                  company        wage skill  \\\n",
       "count                                                 908         908   908   \n",
       "unique                                                699         111    77   \n",
       "top     Tập đoàn CNTT Truyền thông Quảng cáo Việt Tiến...  Negotiable   PHP   \n",
       "freq                                                    6         328    95   \n",
       "\n",
       "            address                name  \\\n",
       "count           907                 908   \n",
       "unique           21                 781   \n",
       "top     Ho Chi Minh  Nhân viên thiết kế   \n",
       "freq            495                  20   \n",
       "\n",
       "                                                      url  \n",
       "count                                                 908  \n",
       "unique                                                908  \n",
       "top     https://topdev.vn/detail-jobs/hcm-back-end-dev...  \n",
       "freq                                                    1  "
      ]
     },
     "execution_count": 5,
     "metadata": {},
     "output_type": "execute_result"
    }
   ],
   "source": [
    "result.describe()"
   ]
  },
  {
   "cell_type": "code",
   "execution_count": 6,
   "metadata": {},
   "outputs": [],
   "source": [
    "def getJobLocation():\n",
    "\n",
    "    listJobLocation, countJobLocations = [], []\n",
    "    job_locations = list(result['address'])\n",
    "    listJobLocation, countJobLocations = [], []\n",
    "    for job_location in job_locations:\n",
    "        if type(job_location) is str:\n",
    "            listJobLocation += job_location.split(', ')\n",
    "        else:\n",
    "            job_locations.remove(job_location)\n",
    "    # 2 câu lệnh này có nghĩa chỉ lấy địa điểm không bị trùng vd như 'hà nội', 'hà nội' chỉ tính 'hà nội' trong list lịtobLocation\n",
    "    getListLocations = list(set([getListLocation for getListLocation in listJobLocation if listJobLocation.count(getListLocation) >=1 ]))\n",
    "    getListLocations.sort(reverse = False) # sắp xếp theo thứ tự anpha bêta\n",
    "    \n",
    "    # Vòng for này để đếm số lượng xuất hiện của địa điểm\n",
    "    for getListLocation in getListLocations:\n",
    "        countJobLocation = listJobLocation.count(getListLocation)\n",
    "        countJobLocations.append(countJobLocation)\n",
    "        \n",
    "    return getListLocations, countJobLocations\n",
    "        "
   ]
  },
  {
   "cell_type": "code",
   "execution_count": 7,
   "metadata": {},
   "outputs": [],
   "source": [
    "nameJobLocation, countJobLocation = getJobLocation()"
   ]
  },
  {
   "cell_type": "code",
   "execution_count": 8,
   "metadata": {
    "scrolled": true
   },
   "outputs": [],
   "source": [
    "tableLocation = pd.DataFrame({'Name Location': nameJobLocation, 'Count Location': countJobLocation})\n",
    "table_location_small = tableLocation[tableLocation['Count Location'] >= 4]"
   ]
  },
  {
   "cell_type": "code",
   "execution_count": 9,
   "metadata": {},
   "outputs": [
    {
     "data": {
      "text/html": [
       "<div>\n",
       "<style scoped>\n",
       "    .dataframe tbody tr th:only-of-type {\n",
       "        vertical-align: middle;\n",
       "    }\n",
       "\n",
       "    .dataframe tbody tr th {\n",
       "        vertical-align: top;\n",
       "    }\n",
       "\n",
       "    .dataframe thead th {\n",
       "        text-align: right;\n",
       "    }\n",
       "</style>\n",
       "<table border=\"1\" class=\"dataframe\">\n",
       "  <thead>\n",
       "    <tr style=\"text-align: right;\">\n",
       "      <th></th>\n",
       "      <th>Count Location</th>\n",
       "      <th>Name Location</th>\n",
       "    </tr>\n",
       "  </thead>\n",
       "  <tbody>\n",
       "    <tr>\n",
       "      <th>4</th>\n",
       "      <td>7</td>\n",
       "      <td>Binh Duong</td>\n",
       "    </tr>\n",
       "    <tr>\n",
       "      <th>5</th>\n",
       "      <td>23</td>\n",
       "      <td>Da Nang</td>\n",
       "    </tr>\n",
       "    <tr>\n",
       "      <th>8</th>\n",
       "      <td>357</td>\n",
       "      <td>Ha Noi</td>\n",
       "    </tr>\n",
       "    <tr>\n",
       "      <th>10</th>\n",
       "      <td>4</td>\n",
       "      <td>Hai Phong</td>\n",
       "    </tr>\n",
       "    <tr>\n",
       "      <th>11</th>\n",
       "      <td>492</td>\n",
       "      <td>Ho Chi Minh</td>\n",
       "    </tr>\n",
       "  </tbody>\n",
       "</table>\n",
       "</div>"
      ],
      "text/plain": [
       "    Count Location Name Location\n",
       "4                7    Binh Duong\n",
       "5               23       Da Nang\n",
       "8              357        Ha Noi\n",
       "10               4     Hai Phong\n",
       "11             492   Ho Chi Minh"
      ]
     },
     "execution_count": 9,
     "metadata": {},
     "output_type": "execute_result"
    }
   ],
   "source": [
    "table_location_small "
   ]
  },
  {
   "cell_type": "code",
   "execution_count": null,
   "metadata": {},
   "outputs": [],
   "source": []
  },
  {
   "cell_type": "markdown",
   "metadata": {},
   "source": [
    "#### <i>phan bo theo khu vuc cua tat ca 18 tinh thanh tren ca nuoc theo data</i>"
   ]
  },
  {
   "cell_type": "code",
   "execution_count": 205,
   "metadata": {
    "scrolled": true
   },
   "outputs": [
    {
     "data": {
      "text/plain": [
       "Text(0.5,1,'Bieu do phan bo viec lam theo khu vuc tuyen dung')"
      ]
     },
     "execution_count": 205,
     "metadata": {},
     "output_type": "execute_result"
    },
    {
     "data": {
      "image/png": "[encoded data removed]",
      "text/plain": [
       "<Figure size 576x432 with 1 Axes>"
      ]
     },
     "metadata": {
      "needs_background": "light"
     },
     "output_type": "display_data"
    }
   ],
   "source": [
    "\n",
    "tableLocation.plot.bar(x = 'Name Location', color = 'blue')\n",
    "plt.xlabel('Location')\n",
    "plt.ylabel('Count')\n",
    "plt.title('Bieu do phan bo viec lam theo khu vuc tuyen dung')"
   ]
  },
  {
   "cell_type": "markdown",
   "metadata": {},
   "source": [
    "#### phan bo cac tinh thanh co so luong job >= 4"
   ]
  },
  {
   "cell_type": "code",
   "execution_count": 206,
   "metadata": {},
   "outputs": [
    {
     "data": {
      "text/plain": [
       "Text(0.5,1,'Bieu do phan bo viec lam theo khu vuc tuyen dung')"
      ]
     },
     "execution_count": 206,
     "metadata": {},
     "output_type": "execute_result"
    },
    {
     "data": {
      "image/png": "[encoded data removed]",
      "text/plain": [
       "<Figure size 576x432 with 1 Axes>"
      ]
     },
     "metadata": {
      "needs_background": "light"
     },
     "output_type": "display_data"
    }
   ],
   "source": [
    "table_location_small.plot.bar(x = 'Name Location', color = 'blue')\n",
    "plt.xlabel('Location')\n",
    "plt.ylabel('Count')\n",
    "plt.title('Bieu do phan bo viec lam theo khu vuc tuyen dung')"
   ]
  },
  {
   "cell_type": "markdown",
   "metadata": {},
   "source": [
    "#### Phan loai cong viec ( skill ) cua 2 web"
   ]
  },
  {
   "cell_type": "code",
   "execution_count": 190,
   "metadata": {},
   "outputs": [],
   "source": []
  },
  {
   "cell_type": "code",
   "execution_count": 153,
   "metadata": {},
   "outputs": [
    {
     "data": {
      "text/plain": [
       "str"
      ]
     },
     "execution_count": 153,
     "metadata": {},
     "output_type": "execute_result"
    }
   ],
   "source": [
    "type(list_skill[0])"
   ]
  },
  {
   "cell_type": "code",
   "execution_count": 15,
   "metadata": {},
   "outputs": [],
   "source": [
    "import re\n",
    "\n",
    "def language():\n",
    "    list_skill = list(result['skill'])\n",
    "    list_language, count_languages = [], []\n",
    "    list_job_skill, count_job_skills = [], []\n",
    "\n",
    "    for skill in list_skill:\n",
    "        if type(skill) is str:\n",
    "            skill_search = re.search(\"[-/ ]\", skill)\n",
    "            if skill_search == None:\n",
    "                list_language.append(skill)\n",
    "\n",
    "            else:\n",
    "                list_job_skill.append(skill)\n",
    "        else:\n",
    "            list_skill.remove(skill)\n",
    "                \n",
    "    \n",
    "    get_languages = list(set([get_language for get_language in list_language if list_language.count(get_language) >=1 ]))\n",
    "    get_languages.sort(reverse = False)\n",
    "    \n",
    "    for get_language in get_languages:\n",
    "        count_language = list_language.count(get_language)\n",
    "        count_languages.append(count_language)\n",
    "\n",
    "    \n",
    "    get_list_job_skills = list(set([get_list_job_skill for get_list_job_skill in list_job_skill if list_job_skill.count(get_list_job_skill) >=1 ]))\n",
    "    get_list_job_skills.sort(reverse = False)\n",
    "    \n",
    "    \n",
    "    for get_list_job_skill in get_list_job_skills:\n",
    "        count_job_skill = list_job_skill.count(get_list_job_skill)\n",
    "        count_job_skills.append(count_job_skill)\n",
    "    \n",
    "    return get_languages, get_list_job_skills, count_language, count_job_skill\n",
    "\n",
    "get_languages, get_list_job_skill,  count_languages, count_job_skills = language()\n",
    "\n",
    "\n"
   ]
  },
  {
   "cell_type": "code",
   "execution_count": 209,
   "metadata": {
    "collapsed": true
   },
   "outputs": [
    {
     "data": {
      "text/plain": [
       "['.NET',\n",
       " 'ASP.NET',\n",
       " 'Agile',\n",
       " 'Android',\n",
       " 'AngularJS',\n",
       " 'C#',\n",
       " 'C++',\n",
       " 'CSS',\n",
       " 'Game',\n",
       " 'Games',\n",
       " 'HTML',\n",
       " 'HTML5',\n",
       " 'J2EE',\n",
       " 'Java',\n",
       " 'JavaScript',\n",
       " 'Linux',\n",
       " 'Manager',\n",
       " 'Mobile',\n",
       " 'MySQL',\n",
       " 'NodeJS',\n",
       " 'OOP',\n",
       " 'Oracle',\n",
       " 'PHP',\n",
       " 'Python',\n",
       " 'QA',\n",
       " 'QC',\n",
       " 'ReactJS',\n",
       " 'SQL',\n",
       " 'Swift',\n",
       " 'Tester',\n",
       " 'Unity',\n",
       " 'VueJS',\n",
       " 'WordPress',\n",
       " 'iOS']"
      ]
     },
     "execution_count": 209,
     "metadata": {},
     "output_type": "execute_result"
    }
   ],
   "source": [
    "get_languages"
   ]
  },
  {
   "cell_type": "code",
   "execution_count": 187,
   "metadata": {
    "collapsed": true
   },
   "outputs": [
    {
     "data": {
      "text/plain": [
       "['Automation Test',\n",
       " 'Back-End',\n",
       " 'Big Data',\n",
       " 'Biên tập/ Báo chí/ Truyền hình',\n",
       " 'Bán hàng',\n",
       " 'Bất động sản',\n",
       " 'Chứng khoán - Vàng',\n",
       " 'Công chức - Viên chức',\n",
       " 'Công nghệ cao',\n",
       " 'Cơ khí - Chế tạo',\n",
       " 'Data Analytics',\n",
       " 'Dệt may - Da giày',\n",
       " 'Dịch vụ',\n",
       " 'Front-End',\n",
       " 'Full-Stack',\n",
       " 'Game Artist',\n",
       " 'Graphic Design',\n",
       " 'Hành chính - Văn phòng',\n",
       " 'IT phần cứng/mạng',\n",
       " 'IT phần mềm',\n",
       " 'In ấn - Xuất bản',\n",
       " 'Kiến trúc - Thiết kế nội thất',\n",
       " 'Kế toán - Kiểm toán',\n",
       " 'Kỹ thuật',\n",
       " 'Kỹ thuật ứng dụng',\n",
       " 'Làm đẹp/ Thể lực/ Spa',\n",
       " 'Lương cao',\n",
       " 'Marketing - PR',\n",
       " 'Mỹ phẩm - Trang sức',\n",
       " 'Nghệ thuật - Điện ảnh',\n",
       " 'Product Manager',\n",
       " 'Project Manager',\n",
       " 'React Native',\n",
       " 'Ruby on Rails',\n",
       " 'Sinh viên làm thêm',\n",
       " 'System Admin',\n",
       " 'Thiết kế - Mỹ thuật',\n",
       " 'Thiết kế đồ họa - Web',\n",
       " 'Thiết kế đồ họa – Web',\n",
       " 'UI Design',\n",
       " 'UX/UI Design',\n",
       " 'Điện - Điện tử - Điện lạnh',\n",
       " 'Điện tử viễn thông']"
      ]
     },
     "execution_count": 187,
     "metadata": {},
     "output_type": "execute_result"
    }
   ],
   "source": [
    "get_list_job_skill"
   ]
  },
  {
   "cell_type": "code",
   "execution_count": 16,
   "metadata": {},
   "outputs": [
    {
     "data": {
      "text/plain": [
       "11"
      ]
     },
     "execution_count": 16,
     "metadata": {},
     "output_type": "execute_result"
    }
   ],
   "source": [
    "count_languages"
   ]
  },
  {
   "cell_type": "code",
   "execution_count": 17,
   "metadata": {},
   "outputs": [
    {
     "data": {
      "text/plain": [
       "4"
      ]
     },
     "execution_count": 17,
     "metadata": {},
     "output_type": "execute_result"
    }
   ],
   "source": [
    "count_job_skills"
   ]
  },
  {
   "cell_type": "code",
   "execution_count": 74,
   "metadata": {},
   "outputs": [
    {
     "data": {
      "text/plain": [
       "<matplotlib.axes._subplots.AxesSubplot at 0x7f2b52170320>"
      ]
     },
     "execution_count": 74,
     "metadata": {},
     "output_type": "execute_result"
    },
    {
     "data": {
      "image/png": "[encoded data removed]",
      "text/plain": [
       "<Figure size 576x432 with 1 Axes>"
      ]
     },
     "metadata": {
      "needs_background": "light"
     },
     "output_type": "display_data"
    }
   ],
   "source": [
    "# 150 luong dau tien 2 web\n",
    "sns.countplot(y=result.head(150)['wage'])"
   ]
  },
  {
   "cell_type": "code",
   "execution_count": null,
   "metadata": {},
   "outputs": [],
   "source": []
  },
  {
   "cell_type": "code",
   "execution_count": 75,
   "metadata": {},
   "outputs": [
    {
     "data": {
      "text/html": [
       "<div>\n",
       "<style scoped>\n",
       "    .dataframe tbody tr th:only-of-type {\n",
       "        vertical-align: middle;\n",
       "    }\n",
       "\n",
       "    .dataframe tbody tr th {\n",
       "        vertical-align: top;\n",
       "    }\n",
       "\n",
       "    .dataframe thead th {\n",
       "        text-align: right;\n",
       "    }\n",
       "</style>\n",
       "<table border=\"1\" class=\"dataframe\">\n",
       "  <thead>\n",
       "    <tr style=\"text-align: right;\">\n",
       "      <th></th>\n",
       "      <th>name</th>\n",
       "      <th>address</th>\n",
       "      <th>skill</th>\n",
       "      <th>wage</th>\n",
       "      <th>company</th>\n",
       "      <th>url</th>\n",
       "    </tr>\n",
       "  </thead>\n",
       "  <tbody>\n",
       "    <tr>\n",
       "      <th>0</th>\n",
       "      <td>(HN) QC Engineer (Tester)</td>\n",
       "      <td>Ha Noi</td>\n",
       "      <td>QC</td>\n",
       "      <td>Negotiable</td>\n",
       "      <td>DigiTechLabs</td>\n",
       "      <td>https://topdev.vn/detail-jobs/hn-qc-engineer-d...</td>\n",
       "    </tr>\n",
       "    <tr>\n",
       "      <th>1</th>\n",
       "      <td>(HN) 10 Business Analyst/Tester</td>\n",
       "      <td>Ha Noi</td>\n",
       "      <td>Tester</td>\n",
       "      <td>Up to $1,500</td>\n",
       "      <td>Thai Son Soft</td>\n",
       "      <td>https://topdev.vn/detail-jobs/hn-10-business-a...</td>\n",
       "    </tr>\n",
       "    <tr>\n",
       "      <th>2</th>\n",
       "      <td>(HN) Tester (QA, QC)</td>\n",
       "      <td>Ha Noi</td>\n",
       "      <td>QA</td>\n",
       "      <td>Negotiable</td>\n",
       "      <td>Vietnam International Bank (VIB)</td>\n",
       "      <td>https://topdev.vn/detail-jobs/hn-tester-vietna...</td>\n",
       "    </tr>\n",
       "    <tr>\n",
       "      <th>3</th>\n",
       "      <td>(HN) Automation Tester</td>\n",
       "      <td>Ha Noi</td>\n",
       "      <td>Tester</td>\n",
       "      <td>Negotiable</td>\n",
       "      <td>Fortna Vietnam</td>\n",
       "      <td>https://topdev.vn/detail-jobs/hn-automation-te...</td>\n",
       "    </tr>\n",
       "    <tr>\n",
       "      <th>4</th>\n",
       "      <td>(HN) Tester Webform</td>\n",
       "      <td>Ha Noi</td>\n",
       "      <td>Tester</td>\n",
       "      <td>Negotiable</td>\n",
       "      <td>Kloon</td>\n",
       "      <td>https://topdev.vn/detail-jobs/hn-tester-webfor...</td>\n",
       "    </tr>\n",
       "  </tbody>\n",
       "</table>\n",
       "</div>"
      ],
      "text/plain": [
       "                              name address   skill          wage  \\\n",
       "0        (HN) QC Engineer (Tester)  Ha Noi      QC    Negotiable   \n",
       "1  (HN) 10 Business Analyst/Tester  Ha Noi  Tester  Up to $1,500   \n",
       "2             (HN) Tester (QA, QC)  Ha Noi      QA    Negotiable   \n",
       "3           (HN) Automation Tester  Ha Noi  Tester    Negotiable   \n",
       "4              (HN) Tester Webform  Ha Noi  Tester    Negotiable   \n",
       "\n",
       "                            company  \\\n",
       "0                      DigiTechLabs   \n",
       "1                     Thai Son Soft   \n",
       "2  Vietnam International Bank (VIB)   \n",
       "3                    Fortna Vietnam   \n",
       "4                             Kloon   \n",
       "\n",
       "                                                 url  \n",
       "0  https://topdev.vn/detail-jobs/hn-qc-engineer-d...  \n",
       "1  https://topdev.vn/detail-jobs/hn-10-business-a...  \n",
       "2  https://topdev.vn/detail-jobs/hn-tester-vietna...  \n",
       "3  https://topdev.vn/detail-jobs/hn-automation-te...  \n",
       "4  https://topdev.vn/detail-jobs/hn-tester-webfor...  "
      ]
     },
     "execution_count": 75,
     "metadata": {},
     "output_type": "execute_result"
    }
   ],
   "source": [
    "# 5 data dau tien cua topdev\n",
    "data_topdev.head()"
   ]
  },
  {
   "cell_type": "code",
   "execution_count": null,
   "metadata": {},
   "outputs": [],
   "source": []
  },
  {
   "cell_type": "code",
   "execution_count": null,
   "metadata": {},
   "outputs": [],
   "source": []
  },
  {
   "cell_type": "code",
   "execution_count": 76,
   "metadata": {},
   "outputs": [
    {
     "data": {
      "text/html": [
       "<div>\n",
       "<style scoped>\n",
       "    .dataframe tbody tr th:only-of-type {\n",
       "        vertical-align: middle;\n",
       "    }\n",
       "\n",
       "    .dataframe tbody tr th {\n",
       "        vertical-align: top;\n",
       "    }\n",
       "\n",
       "    .dataframe thead th {\n",
       "        text-align: right;\n",
       "    }\n",
       "</style>\n",
       "<table border=\"1\" class=\"dataframe\">\n",
       "  <thead>\n",
       "    <tr style=\"text-align: right;\">\n",
       "      <th></th>\n",
       "      <th>name</th>\n",
       "      <th>address</th>\n",
       "      <th>skill</th>\n",
       "      <th>wage</th>\n",
       "      <th>company</th>\n",
       "      <th>url</th>\n",
       "    </tr>\n",
       "  </thead>\n",
       "  <tbody>\n",
       "    <tr>\n",
       "      <th>count</th>\n",
       "      <td>538</td>\n",
       "      <td>537</td>\n",
       "      <td>538</td>\n",
       "      <td>538</td>\n",
       "      <td>538</td>\n",
       "      <td>538</td>\n",
       "    </tr>\n",
       "    <tr>\n",
       "      <th>unique</th>\n",
       "      <td>481</td>\n",
       "      <td>6</td>\n",
       "      <td>48</td>\n",
       "      <td>74</td>\n",
       "      <td>408</td>\n",
       "      <td>538</td>\n",
       "    </tr>\n",
       "    <tr>\n",
       "      <th>top</th>\n",
       "      <td>(HCM) Graphic Designer</td>\n",
       "      <td>Ho Chi Minh</td>\n",
       "      <td>PHP</td>\n",
       "      <td>Negotiable</td>\n",
       "      <td>Vincere.io</td>\n",
       "      <td>https://topdev.vn/detail-jobs/hcm-front-end-de...</td>\n",
       "    </tr>\n",
       "    <tr>\n",
       "      <th>freq</th>\n",
       "      <td>6</td>\n",
       "      <td>320</td>\n",
       "      <td>95</td>\n",
       "      <td>328</td>\n",
       "      <td>4</td>\n",
       "      <td>1</td>\n",
       "    </tr>\n",
       "  </tbody>\n",
       "</table>\n",
       "</div>"
      ],
      "text/plain": [
       "                          name      address skill        wage     company  \\\n",
       "count                      538          537   538         538         538   \n",
       "unique                     481            6    48          74         408   \n",
       "top     (HCM) Graphic Designer  Ho Chi Minh   PHP  Negotiable  Vincere.io   \n",
       "freq                         6          320    95         328           4   \n",
       "\n",
       "                                                      url  \n",
       "count                                                 538  \n",
       "unique                                                538  \n",
       "top     https://topdev.vn/detail-jobs/hcm-front-end-de...  \n",
       "freq                                                    1  "
      ]
     },
     "execution_count": 76,
     "metadata": {},
     "output_type": "execute_result"
    }
   ],
   "source": [
    "# Du lieu tu topdev\n",
    "data_topdev.describe()"
   ]
  },
  {
   "cell_type": "code",
   "execution_count": null,
   "metadata": {},
   "outputs": [],
   "source": [
    "sns.countplot(x=result['skill'])"
   ]
  },
  {
   "cell_type": "code",
   "execution_count": null,
   "metadata": {},
   "outputs": [],
   "source": []
  },
  {
   "cell_type": "code",
   "execution_count": 78,
   "metadata": {},
   "outputs": [
    {
     "data": {
      "text/html": [
       "<div>\n",
       "<style scoped>\n",
       "    .dataframe tbody tr th:only-of-type {\n",
       "        vertical-align: middle;\n",
       "    }\n",
       "\n",
       "    .dataframe tbody tr th {\n",
       "        vertical-align: top;\n",
       "    }\n",
       "\n",
       "    .dataframe thead th {\n",
       "        text-align: right;\n",
       "    }\n",
       "</style>\n",
       "<table border=\"1\" class=\"dataframe\">\n",
       "  <thead>\n",
       "    <tr style=\"text-align: right;\">\n",
       "      <th></th>\n",
       "      <th>address</th>\n",
       "      <th>company</th>\n",
       "      <th>name</th>\n",
       "      <th>skill</th>\n",
       "      <th>url</th>\n",
       "      <th>wage</th>\n",
       "    </tr>\n",
       "  </thead>\n",
       "  <tbody>\n",
       "    <tr>\n",
       "      <th>count</th>\n",
       "      <td>95</td>\n",
       "      <td>95</td>\n",
       "      <td>95</td>\n",
       "      <td>95</td>\n",
       "      <td>95</td>\n",
       "      <td>95</td>\n",
       "    </tr>\n",
       "    <tr>\n",
       "      <th>unique</th>\n",
       "      <td>3</td>\n",
       "      <td>87</td>\n",
       "      <td>88</td>\n",
       "      <td>1</td>\n",
       "      <td>95</td>\n",
       "      <td>25</td>\n",
       "    </tr>\n",
       "    <tr>\n",
       "      <th>top</th>\n",
       "      <td>Ho Chi Minh</td>\n",
       "      <td>Công ty Cổ phần W&amp;S</td>\n",
       "      <td>(HCM) Full-Stack Developer (PHP)</td>\n",
       "      <td>PHP</td>\n",
       "      <td>https://topdev.vn/detail-jobs/02-php-developer...</td>\n",
       "      <td>Negotiable</td>\n",
       "    </tr>\n",
       "    <tr>\n",
       "      <th>freq</th>\n",
       "      <td>61</td>\n",
       "      <td>2</td>\n",
       "      <td>3</td>\n",
       "      <td>95</td>\n",
       "      <td>1</td>\n",
       "      <td>47</td>\n",
       "    </tr>\n",
       "  </tbody>\n",
       "</table>\n",
       "</div>"
      ],
      "text/plain": [
       "            address              company                              name  \\\n",
       "count            95                   95                                95   \n",
       "unique            3                   87                                88   \n",
       "top     Ho Chi Minh  Công ty Cổ phần W&S  (HCM) Full-Stack Developer (PHP)   \n",
       "freq             61                    2                                 3   \n",
       "\n",
       "       skill                                                url        wage  \n",
       "count     95                                                 95          95  \n",
       "unique     1                                                 95          25  \n",
       "top      PHP  https://topdev.vn/detail-jobs/02-php-developer...  Negotiable  \n",
       "freq      95                                                  1          47  "
      ]
     },
     "execution_count": 78,
     "metadata": {},
     "output_type": "execute_result"
    }
   ],
   "source": [
    "# thong ke data co skill la php cua topdev\n",
    "skill_data_topdev = (result[result['skill'] == 'PHP']).describe()\n",
    "skill_data_topdev"
   ]
  },
  {
   "cell_type": "code",
   "execution_count": null,
   "metadata": {},
   "outputs": [],
   "source": []
  },
  {
   "cell_type": "code",
   "execution_count": 79,
   "metadata": {},
   "outputs": [
    {
     "data": {
      "text/plain": [
       "<matplotlib.axes._subplots.AxesSubplot at 0x7f2b521e6438>"
      ]
     },
     "execution_count": 79,
     "metadata": {},
     "output_type": "execute_result"
    },
    {
     "data": {
      "image/png": "[encoded data removed]",
      "text/plain": [
       "<Figure size 576x432 with 1 Axes>"
      ]
     },
     "metadata": {
      "needs_background": "light"
     },
     "output_type": "display_data"
    }
   ],
   "source": [
    "# thong ke 50 skill dau cua topdev\n",
    "sns.countplot(y=data_topdev.head(50)['skill'])"
   ]
  },
  {
   "cell_type": "code",
   "execution_count": null,
   "metadata": {},
   "outputs": [],
   "source": []
  },
  {
   "cell_type": "code",
   "execution_count": 80,
   "metadata": {},
   "outputs": [
    {
     "data": {
      "text/plain": [
       "<matplotlib.axes._subplots.AxesSubplot at 0x7f2b521b9ba8>"
      ]
     },
     "execution_count": 80,
     "metadata": {},
     "output_type": "execute_result"
    },
    {
     "data": {
      "image/png": "[encoded data removed]",
      "text/plain": [
       "<Figure size 576x432 with 1 Axes>"
      ]
     },
     "metadata": {
      "needs_background": "light"
     },
     "output_type": "display_data"
    }
   ],
   "source": [
    "# thong ke 100 luong dau tien cua topdev\n",
    "sns.countplot(y=data_topdev.head(100)['wage'])"
   ]
  },
  {
   "cell_type": "code",
   "execution_count": 81,
   "metadata": {},
   "outputs": [],
   "source": [
    "# cac thong so chung cua topdev"
   ]
  },
  {
   "cell_type": "code",
   "execution_count": null,
   "metadata": {},
   "outputs": [],
   "source": []
  },
  {
   "cell_type": "code",
   "execution_count": 82,
   "metadata": {},
   "outputs": [
    {
     "data": {
      "text/plain": [
       "count            538\n",
       "unique            74\n",
       "top       Negotiable\n",
       "freq             328\n",
       "Name: wage, dtype: object"
      ]
     },
     "execution_count": 82,
     "metadata": {},
     "output_type": "execute_result"
    }
   ],
   "source": [
    "data_topdev['wage'].describe()"
   ]
  },
  {
   "cell_type": "code",
   "execution_count": null,
   "metadata": {},
   "outputs": [],
   "source": []
  },
  {
   "cell_type": "code",
   "execution_count": 83,
   "metadata": {},
   "outputs": [
    {
     "data": {
      "text/plain": [
       "count     538\n",
       "unique     48\n",
       "top       PHP\n",
       "freq       95\n",
       "Name: skill, dtype: object"
      ]
     },
     "execution_count": 83,
     "metadata": {},
     "output_type": "execute_result"
    }
   ],
   "source": [
    "data_topdev['skill'].describe()"
   ]
  },
  {
   "cell_type": "code",
   "execution_count": null,
   "metadata": {},
   "outputs": [],
   "source": []
  },
  {
   "cell_type": "code",
   "execution_count": 84,
   "metadata": {},
   "outputs": [
    {
     "data": {
      "text/plain": [
       "count             537\n",
       "unique              6\n",
       "top       Ho Chi Minh\n",
       "freq              320\n",
       "Name: address, dtype: object"
      ]
     },
     "execution_count": 84,
     "metadata": {},
     "output_type": "execute_result"
    }
   ],
   "source": [
    "data_topdev['address'].describe()"
   ]
  },
  {
   "cell_type": "code",
   "execution_count": null,
   "metadata": {},
   "outputs": [],
   "source": []
  },
  {
   "cell_type": "code",
   "execution_count": 85,
   "metadata": {},
   "outputs": [
    {
     "data": {
      "text/plain": [
       "count            538\n",
       "unique           408\n",
       "top       Vincere.io\n",
       "freq               4\n",
       "Name: company, dtype: object"
      ]
     },
     "execution_count": 85,
     "metadata": {},
     "output_type": "execute_result"
    }
   ],
   "source": [
    "data_topdev['company'].describe()"
   ]
  },
  {
   "cell_type": "code",
   "execution_count": null,
   "metadata": {},
   "outputs": [],
   "source": []
  },
  {
   "cell_type": "code",
   "execution_count": 89,
   "metadata": {},
   "outputs": [
    {
     "data": {
      "text/html": [
       "<div>\n",
       "<style scoped>\n",
       "    .dataframe tbody tr th:only-of-type {\n",
       "        vertical-align: middle;\n",
       "    }\n",
       "\n",
       "    .dataframe tbody tr th {\n",
       "        vertical-align: top;\n",
       "    }\n",
       "\n",
       "    .dataframe thead th {\n",
       "        text-align: right;\n",
       "    }\n",
       "</style>\n",
       "<table border=\"1\" class=\"dataframe\">\n",
       "  <thead>\n",
       "    <tr style=\"text-align: right;\">\n",
       "      <th></th>\n",
       "      <th>address</th>\n",
       "      <th>company</th>\n",
       "      <th>name</th>\n",
       "      <th>skill</th>\n",
       "      <th>url</th>\n",
       "      <th>wage</th>\n",
       "    </tr>\n",
       "  </thead>\n",
       "  <tbody>\n",
       "    <tr>\n",
       "      <th>count</th>\n",
       "      <td>350</td>\n",
       "      <td>350</td>\n",
       "      <td>350</td>\n",
       "      <td>350</td>\n",
       "      <td>350</td>\n",
       "      <td>350</td>\n",
       "    </tr>\n",
       "    <tr>\n",
       "      <th>unique</th>\n",
       "      <td>1</td>\n",
       "      <td>274</td>\n",
       "      <td>310</td>\n",
       "      <td>58</td>\n",
       "      <td>350</td>\n",
       "      <td>54</td>\n",
       "    </tr>\n",
       "    <tr>\n",
       "      <th>top</th>\n",
       "      <td>Ha Noi</td>\n",
       "      <td>Tập đoàn CNTT Truyền thông Quảng cáo Việt Tiến...</td>\n",
       "      <td>Nhân viên thiết kế</td>\n",
       "      <td>Thiết kế đồ họa - Web</td>\n",
       "      <td>https://mywork.com.vn/tuyen-dung/viec-lam/1224...</td>\n",
       "      <td>Negotiable</td>\n",
       "    </tr>\n",
       "    <tr>\n",
       "      <th>freq</th>\n",
       "      <td>350</td>\n",
       "      <td>6</td>\n",
       "      <td>9</td>\n",
       "      <td>35</td>\n",
       "      <td>1</td>\n",
       "      <td>126</td>\n",
       "    </tr>\n",
       "  </tbody>\n",
       "</table>\n",
       "</div>"
      ],
      "text/plain": [
       "       address                                            company  \\\n",
       "count      350                                                350   \n",
       "unique       1                                                274   \n",
       "top     Ha Noi  Tập đoàn CNTT Truyền thông Quảng cáo Việt Tiến...   \n",
       "freq       350                                                  6   \n",
       "\n",
       "                      name                  skill  \\\n",
       "count                  350                    350   \n",
       "unique                 310                     58   \n",
       "top     Nhân viên thiết kế  Thiết kế đồ họa - Web   \n",
       "freq                     9                     35   \n",
       "\n",
       "                                                      url        wage  \n",
       "count                                                 350         350  \n",
       "unique                                                350          54  \n",
       "top     https://mywork.com.vn/tuyen-dung/viec-lam/1224...  Negotiable  \n",
       "freq                                                    1         126  "
      ]
     },
     "execution_count": 89,
     "metadata": {},
     "output_type": "execute_result"
    }
   ],
   "source": [
    "# khu vuc Ha Noi cua topdev\n",
    "local_data_topdev = (result[result['address'] == 'Ha Noi'])\n",
    "local_data_topdev.describe()"
   ]
  },
  {
   "cell_type": "code",
   "execution_count": 90,
   "metadata": {},
   "outputs": [
    {
     "data": {
      "text/plain": [
       "0                  Chứng khoán - Vàng\n",
       "7               Thiết kế đồ họa - Web\n",
       "12                        IT phần mềm\n",
       "13      Kiến trúc - Thiết kế nội thất\n",
       "15              Thiết kế đồ họa - Web\n",
       "16      Kiến trúc - Thiết kế nội thất\n",
       "19                              Games\n",
       "26      Kiến trúc - Thiết kế nội thất\n",
       "29      Kiến trúc - Thiết kế nội thất\n",
       "32                     Marketing - PR\n",
       "35              Thiết kế đồ họa - Web\n",
       "38              Thiết kế đồ họa - Web\n",
       "39                Mỹ phẩm - Trang sức\n",
       "48              Thiết kế đồ họa - Web\n",
       "50              Thiết kế đồ họa - Web\n",
       "52     Biên tập/ Báo chí/ Truyền hình\n",
       "53                       Bất động sản\n",
       "56      Kiến trúc - Thiết kế nội thất\n",
       "57     Biên tập/ Báo chí/ Truyền hình\n",
       "63              Thiết kế đồ họa - Web\n",
       "64                      Công nghệ cao\n",
       "75              Thiết kế đồ họa - Web\n",
       "78                   In ấn - Xuất bản\n",
       "79      Kiến trúc - Thiết kế nội thất\n",
       "80              Thiết kế đồ họa - Web\n",
       "82                  IT phần cứng/mạng\n",
       "87      Kiến trúc - Thiết kế nội thất\n",
       "88              Thiết kế đồ họa - Web\n",
       "94     Biên tập/ Báo chí/ Truyền hình\n",
       "95     Biên tập/ Báo chí/ Truyền hình\n",
       "                    ...              \n",
       "436                               PHP\n",
       "437                               C++\n",
       "440                               PHP\n",
       "441                            NodeJS\n",
       "443                               CSS\n",
       "446                               CSS\n",
       "447                               PHP\n",
       "450                               SQL\n",
       "453                               CSS\n",
       "454                              .NET\n",
       "458                              J2EE\n",
       "459                      System Admin\n",
       "461                        JavaScript\n",
       "469                                C#\n",
       "472                             Agile\n",
       "475                           ASP.NET\n",
       "476                               iOS\n",
       "477                              Java\n",
       "479                            NodeJS\n",
       "481                              Java\n",
       "485                              Java\n",
       "513                            NodeJS\n",
       "514                            Python\n",
       "516                              Java\n",
       "531                        JavaScript\n",
       "533                             Swift\n",
       "534                            NodeJS\n",
       "535                           Android\n",
       "536                           Android\n",
       "537                              Game\n",
       "Name: skill, Length: 350, dtype: object"
      ]
     },
     "execution_count": 90,
     "metadata": {},
     "output_type": "execute_result"
    }
   ],
   "source": [
    "local_data_topdev['skill']"
   ]
  },
  {
   "cell_type": "code",
   "execution_count": null,
   "metadata": {},
   "outputs": [],
   "source": []
  },
  {
   "cell_type": "code",
   "execution_count": null,
   "metadata": {},
   "outputs": [],
   "source": []
  },
  {
   "cell_type": "code",
   "execution_count": 87,
   "metadata": {},
   "outputs": [
    {
     "data": {
      "text/plain": [
       "count                       350\n",
       "unique                       58\n",
       "top       Thiết kế đồ họa - Web\n",
       "freq                         35\n",
       "Name: skill, dtype: object"
      ]
     },
     "execution_count": 87,
     "metadata": {},
     "output_type": "execute_result"
    }
   ],
   "source": [
    "# thong so skill tai khu vuc Ha Noi cua topdev\n",
    "local_data_topdev['skill'].describe()"
   ]
  },
  {
   "cell_type": "code",
   "execution_count": 91,
   "metadata": {},
   "outputs": [
    {
     "data": {
      "text/plain": [
       "<matplotlib.axes._subplots.AxesSubplot at 0x7f2b50684e48>"
      ]
     },
     "execution_count": 91,
     "metadata": {},
     "output_type": "execute_result"
    },
    {
     "data": {
      "image/png": "[encoded data removed]",
      "text/plain": [
       "<Figure size 576x432 with 1 Axes>"
      ]
     },
     "metadata": {
      "needs_background": "light"
     },
     "output_type": "display_data"
    }
   ],
   "source": [
    "# thong ke 100 skill dau tien khu vuc Ha Noi cua topdev\n",
    "sns.countplot(y=local_data_topdev.head(100)['skill'])"
   ]
  },
  {
   "cell_type": "code",
   "execution_count": 96,
   "metadata": {},
   "outputs": [
    {
     "data": {
      "text/plain": [
       "<matplotlib.axes._subplots.AxesSubplot at 0x7f2b5049f198>"
      ]
     },
     "execution_count": 96,
     "metadata": {},
     "output_type": "execute_result"
    },
    {
     "data": {
      "image/png": "[encoded data removed]",
      "text/plain": [
       "<Figure size 576x432 with 1 Axes>"
      ]
     },
     "metadata": {
      "needs_background": "light"
     },
     "output_type": "display_data"
    }
   ],
   "source": [
    "# thong ke 30 skill cuoi cung khu vuc Ha Noi cua topdev\n",
    "sns.countplot(y=local_data_topdev.tail(30)['skill'])"
   ]
  },
  {
   "cell_type": "code",
   "execution_count": 99,
   "metadata": {},
   "outputs": [
    {
     "data": {
      "text/plain": [
       "<matplotlib.axes._subplots.AxesSubplot at 0x7f2b503489e8>"
      ]
     },
     "execution_count": 99,
     "metadata": {},
     "output_type": "execute_result"
    },
    {
     "data": {
      "image/png": "[encoded data removed]",
      "text/plain": [
       "<Figure size 576x432 with 1 Axes>"
      ]
     },
     "metadata": {
      "needs_background": "light"
     },
     "output_type": "display_data"
    }
   ],
   "source": [
    "sns.countplot(y=local_data_topdev.tail(50)['wage'])"
   ]
  },
  {
   "cell_type": "code",
   "execution_count": 101,
   "metadata": {},
   "outputs": [
    {
     "data": {
      "text/plain": [
       "<matplotlib.axes._subplots.AxesSubplot at 0x7f2b502d79b0>"
      ]
     },
     "execution_count": 101,
     "metadata": {},
     "output_type": "execute_result"
    },
    {
     "data": {
      "image/png": "[encoded data removed]",
      "text/plain": [
       "<Figure size 576x432 with 1 Axes>"
      ]
     },
     "metadata": {
      "needs_background": "light"
     },
     "output_type": "display_data"
    }
   ],
   "source": [
    "sns.countplot(y=local_data_topdev.head(100)['wage'])"
   ]
  },
  {
   "cell_type": "code",
   "execution_count": 103,
   "metadata": {},
   "outputs": [
    {
     "data": {
      "text/html": [
       "<div>\n",
       "<style scoped>\n",
       "    .dataframe tbody tr th:only-of-type {\n",
       "        vertical-align: middle;\n",
       "    }\n",
       "\n",
       "    .dataframe tbody tr th {\n",
       "        vertical-align: top;\n",
       "    }\n",
       "\n",
       "    .dataframe thead th {\n",
       "        text-align: right;\n",
       "    }\n",
       "</style>\n",
       "<table border=\"1\" class=\"dataframe\">\n",
       "  <thead>\n",
       "    <tr style=\"text-align: right;\">\n",
       "      <th></th>\n",
       "      <th>company</th>\n",
       "      <th>wage</th>\n",
       "      <th>skill</th>\n",
       "      <th>address</th>\n",
       "      <th>name</th>\n",
       "      <th>url</th>\n",
       "    </tr>\n",
       "  </thead>\n",
       "  <tbody>\n",
       "    <tr>\n",
       "      <th>0</th>\n",
       "      <td>Công ty vàng bạc đá quý Bảo Tín Minh Châu</td>\n",
       "      <td>8 triệu - 17 triệu</td>\n",
       "      <td>Chứng khoán - Vàng</td>\n",
       "      <td>Ha Noi</td>\n",
       "      <td>Nhân viên thiết kế 2D-3D (Chuyên thiết kế tran...</td>\n",
       "      <td>https://mywork.com.vn/tuyen-dung/viec-lam/1089...</td>\n",
       "    </tr>\n",
       "    <tr>\n",
       "      <th>1</th>\n",
       "      <td>Công Ty TNHH In Ấn May Mặc Thời Trang Hùng Thiên</td>\n",
       "      <td>7 triệu - 10 triệu</td>\n",
       "      <td>Kiến trúc - Thiết kế nội thất</td>\n",
       "      <td>Ho Chi Minh</td>\n",
       "      <td>Thiết kế đồ họa - thiết kế hoa văn in trên vải</td>\n",
       "      <td>https://mywork.com.vn/tuyen-dung/viec-lam/1206...</td>\n",
       "    </tr>\n",
       "    <tr>\n",
       "      <th>2</th>\n",
       "      <td>Công ty Cổ phần Trực tuyến GOSU</td>\n",
       "      <td>7 triệu - 10 triệu</td>\n",
       "      <td>Thiết kế đồ họa - Web</td>\n",
       "      <td>Thua Thien Hue</td>\n",
       "      <td>Nhân viên Thiết kế</td>\n",
       "      <td>https://mywork.com.vn/tuyen-dung/viec-lam/1223...</td>\n",
       "    </tr>\n",
       "    <tr>\n",
       "      <th>3</th>\n",
       "      <td>Công Ty TNHH  King Car</td>\n",
       "      <td>Thương lượng</td>\n",
       "      <td>Marketing - PR</td>\n",
       "      <td>Ho Chi Minh</td>\n",
       "      <td>Nhân viên Thiết kế đồ họa (Graphic Designer)</td>\n",
       "      <td>https://mywork.com.vn/tuyen-dung/viec-lam/1228...</td>\n",
       "    </tr>\n",
       "    <tr>\n",
       "      <th>4</th>\n",
       "      <td>CÔNG TY TNHH DV TM TẦM NHÌN CHIẾN LƯỢC</td>\n",
       "      <td>Thương lượng</td>\n",
       "      <td>Thiết kế - Mỹ thuật</td>\n",
       "      <td>Ho Chi Minh</td>\n",
       "      <td>[HCM] Designer - Lương Hấp Dẫn</td>\n",
       "      <td>https://mywork.com.vn/tuyen-dung/viec-lam/1055...</td>\n",
       "    </tr>\n",
       "  </tbody>\n",
       "</table>\n",
       "</div>"
      ],
      "text/plain": [
       "                                            company                wage  \\\n",
       "0         Công ty vàng bạc đá quý Bảo Tín Minh Châu  8 triệu - 17 triệu   \n",
       "1  Công Ty TNHH In Ấn May Mặc Thời Trang Hùng Thiên  7 triệu - 10 triệu   \n",
       "2                   Công ty Cổ phần Trực tuyến GOSU  7 triệu - 10 triệu   \n",
       "3                            Công Ty TNHH  King Car        Thương lượng   \n",
       "4            CÔNG TY TNHH DV TM TẦM NHÌN CHIẾN LƯỢC        Thương lượng   \n",
       "\n",
       "                           skill         address  \\\n",
       "0             Chứng khoán - Vàng          Ha Noi   \n",
       "1  Kiến trúc - Thiết kế nội thất     Ho Chi Minh   \n",
       "2          Thiết kế đồ họa - Web  Thua Thien Hue   \n",
       "3                 Marketing - PR     Ho Chi Minh   \n",
       "4            Thiết kế - Mỹ thuật     Ho Chi Minh   \n",
       "\n",
       "                                                name  \\\n",
       "0  Nhân viên thiết kế 2D-3D (Chuyên thiết kế tran...   \n",
       "1     Thiết kế đồ họa - thiết kế hoa văn in trên vải   \n",
       "2                                 Nhân viên Thiết kế   \n",
       "3       Nhân viên Thiết kế đồ họa (Graphic Designer)   \n",
       "4                     [HCM] Designer - Lương Hấp Dẫn   \n",
       "\n",
       "                                                 url  \n",
       "0  https://mywork.com.vn/tuyen-dung/viec-lam/1089...  \n",
       "1  https://mywork.com.vn/tuyen-dung/viec-lam/1206...  \n",
       "2  https://mywork.com.vn/tuyen-dung/viec-lam/1223...  \n",
       "3  https://mywork.com.vn/tuyen-dung/viec-lam/1228...  \n",
       "4  https://mywork.com.vn/tuyen-dung/viec-lam/1055...  "
      ]
     },
     "execution_count": 103,
     "metadata": {},
     "output_type": "execute_result"
    }
   ],
   "source": [
    "# du lieu cua mywork\n",
    "data_mywork.head()"
   ]
  },
  {
   "cell_type": "code",
   "execution_count": 104,
   "metadata": {},
   "outputs": [
    {
     "data": {
      "text/html": [
       "<div>\n",
       "<style scoped>\n",
       "    .dataframe tbody tr th:only-of-type {\n",
       "        vertical-align: middle;\n",
       "    }\n",
       "\n",
       "    .dataframe tbody tr th {\n",
       "        vertical-align: top;\n",
       "    }\n",
       "\n",
       "    .dataframe thead th {\n",
       "        text-align: right;\n",
       "    }\n",
       "</style>\n",
       "<table border=\"1\" class=\"dataframe\">\n",
       "  <thead>\n",
       "    <tr style=\"text-align: right;\">\n",
       "      <th></th>\n",
       "      <th>company</th>\n",
       "      <th>wage</th>\n",
       "      <th>skill</th>\n",
       "      <th>address</th>\n",
       "      <th>name</th>\n",
       "      <th>url</th>\n",
       "    </tr>\n",
       "  </thead>\n",
       "  <tbody>\n",
       "    <tr>\n",
       "      <th>count</th>\n",
       "      <td>370</td>\n",
       "      <td>370</td>\n",
       "      <td>370</td>\n",
       "      <td>370</td>\n",
       "      <td>370</td>\n",
       "      <td>370</td>\n",
       "    </tr>\n",
       "    <tr>\n",
       "      <th>unique</th>\n",
       "      <td>292</td>\n",
       "      <td>37</td>\n",
       "      <td>29</td>\n",
       "      <td>18</td>\n",
       "      <td>301</td>\n",
       "      <td>370</td>\n",
       "    </tr>\n",
       "    <tr>\n",
       "      <th>top</th>\n",
       "      <td>Tập đoàn CNTT Truyền thông Quảng cáo Việt Tiến...</td>\n",
       "      <td>7 triệu - 10 triệu</td>\n",
       "      <td>Thiết kế đồ họa - Web</td>\n",
       "      <td>Ho Chi Minh</td>\n",
       "      <td>Nhân viên thiết kế</td>\n",
       "      <td>https://mywork.com.vn/tuyen-dung/viec-lam/1135...</td>\n",
       "    </tr>\n",
       "    <tr>\n",
       "      <th>freq</th>\n",
       "      <td>6</td>\n",
       "      <td>133</td>\n",
       "      <td>91</td>\n",
       "      <td>175</td>\n",
       "      <td>20</td>\n",
       "      <td>1</td>\n",
       "    </tr>\n",
       "  </tbody>\n",
       "</table>\n",
       "</div>"
      ],
      "text/plain": [
       "                                                  company                wage  \\\n",
       "count                                                 370                 370   \n",
       "unique                                                292                  37   \n",
       "top     Tập đoàn CNTT Truyền thông Quảng cáo Việt Tiến...  7 triệu - 10 triệu   \n",
       "freq                                                    6                 133   \n",
       "\n",
       "                        skill      address                name  \\\n",
       "count                     370          370                 370   \n",
       "unique                     29           18                 301   \n",
       "top     Thiết kế đồ họa - Web  Ho Chi Minh  Nhân viên thiết kế   \n",
       "freq                       91          175                  20   \n",
       "\n",
       "                                                      url  \n",
       "count                                                 370  \n",
       "unique                                                370  \n",
       "top     https://mywork.com.vn/tuyen-dung/viec-lam/1135...  \n",
       "freq                                                    1  "
      ]
     },
     "execution_count": 104,
     "metadata": {},
     "output_type": "execute_result"
    }
   ],
   "source": [
    "data_mywork.describe()"
   ]
  },
  {
   "cell_type": "code",
   "execution_count": 105,
   "metadata": {},
   "outputs": [
    {
     "data": {
      "text/plain": [
       "<matplotlib.axes._subplots.AxesSubplot at 0x7f2b501ad470>"
      ]
     },
     "execution_count": 105,
     "metadata": {},
     "output_type": "execute_result"
    },
    {
     "data": {
      "image/png": "[encoded data removed]",
      "text/plain": [
       "<Figure size 576x432 with 1 Axes>"
      ]
     },
     "metadata": {
      "needs_background": "light"
     },
     "output_type": "display_data"
    }
   ],
   "source": [
    "# phan bo viec lam cua mywork\n",
    "sns.countplot(y=data_mywork['address'])"
   ]
  },
  {
   "cell_type": "code",
   "execution_count": 114,
   "metadata": {},
   "outputs": [
    {
     "data": {
      "text/html": [
       "<div>\n",
       "<style scoped>\n",
       "    .dataframe tbody tr th:only-of-type {\n",
       "        vertical-align: middle;\n",
       "    }\n",
       "\n",
       "    .dataframe tbody tr th {\n",
       "        vertical-align: top;\n",
       "    }\n",
       "\n",
       "    .dataframe thead th {\n",
       "        text-align: right;\n",
       "    }\n",
       "</style>\n",
       "<table border=\"1\" class=\"dataframe\">\n",
       "  <thead>\n",
       "    <tr style=\"text-align: right;\">\n",
       "      <th></th>\n",
       "      <th>address</th>\n",
       "      <th>company</th>\n",
       "      <th>name</th>\n",
       "      <th>skill</th>\n",
       "      <th>url</th>\n",
       "      <th>wage</th>\n",
       "    </tr>\n",
       "  </thead>\n",
       "  <tbody>\n",
       "    <tr>\n",
       "      <th>count</th>\n",
       "      <td>16</td>\n",
       "      <td>16</td>\n",
       "      <td>16</td>\n",
       "      <td>16</td>\n",
       "      <td>16</td>\n",
       "      <td>16</td>\n",
       "    </tr>\n",
       "    <tr>\n",
       "      <th>unique</th>\n",
       "      <td>2</td>\n",
       "      <td>15</td>\n",
       "      <td>15</td>\n",
       "      <td>1</td>\n",
       "      <td>16</td>\n",
       "      <td>5</td>\n",
       "    </tr>\n",
       "    <tr>\n",
       "      <th>top</th>\n",
       "      <td>Ho Chi Minh</td>\n",
       "      <td>ISB Vietnam Company</td>\n",
       "      <td>(HN) Software Engineer (C++)</td>\n",
       "      <td>C++</td>\n",
       "      <td>https://topdev.vn/detail-jobs/hcm-game-develop...</td>\n",
       "      <td>Negotiable</td>\n",
       "    </tr>\n",
       "    <tr>\n",
       "      <th>freq</th>\n",
       "      <td>11</td>\n",
       "      <td>2</td>\n",
       "      <td>2</td>\n",
       "      <td>16</td>\n",
       "      <td>1</td>\n",
       "      <td>11</td>\n",
       "    </tr>\n",
       "  </tbody>\n",
       "</table>\n",
       "</div>"
      ],
      "text/plain": [
       "            address              company                          name skill  \\\n",
       "count            16                   16                            16    16   \n",
       "unique            2                   15                            15     1   \n",
       "top     Ho Chi Minh  ISB Vietnam Company  (HN) Software Engineer (C++)   C++   \n",
       "freq             11                    2                             2    16   \n",
       "\n",
       "                                                      url        wage  \n",
       "count                                                  16          16  \n",
       "unique                                                 16           5  \n",
       "top     https://topdev.vn/detail-jobs/hcm-game-develop...  Negotiable  \n",
       "freq                                                    1          11  "
      ]
     },
     "execution_count": 114,
     "metadata": {},
     "output_type": "execute_result"
    }
   ],
   "source": [
    "# thong ke data co skill la php cua mywork\n",
    "skill_data_mywork = (result[result['skill'] == 'C++']).describe()\n",
    "skill_data_mywork"
   ]
  },
  {
   "cell_type": "code",
   "execution_count": 117,
   "metadata": {},
   "outputs": [
    {
     "data": {
      "text/plain": [
       "<matplotlib.axes._subplots.AxesSubplot at 0x7f2b500e0a58>"
      ]
     },
     "execution_count": 117,
     "metadata": {},
     "output_type": "execute_result"
    },
    {
     "data": {
      "image/png": "[encoded data removed]",
      "text/plain": [
       "<Figure size 576x432 with 1 Axes>"
      ]
     },
     "metadata": {
      "needs_background": "light"
     },
     "output_type": "display_data"
    }
   ],
   "source": [
    "# thong ke 100 skill dau cua mywork\n",
    "sns.countplot(y=data_mywork.head(100)['skill'])"
   ]
  },
  {
   "cell_type": "code",
   "execution_count": null,
   "metadata": {},
   "outputs": [],
   "source": []
  },
  {
   "cell_type": "code",
   "execution_count": 124,
   "metadata": {},
   "outputs": [
    {
     "data": {
      "text/plain": [
       "<matplotlib.axes._subplots.AxesSubplot at 0x7f2b50247828>"
      ]
     },
     "execution_count": 124,
     "metadata": {},
     "output_type": "execute_result"
    },
    {
     "data": {
      "image/png": "[encoded data removed]",
      "text/plain": [
       "<Figure size 576x432 with 1 Axes>"
      ]
     },
     "metadata": {
      "needs_background": "light"
     },
     "output_type": "display_data"
    }
   ],
   "source": [
    "# thong ke 150 skill cuoi cua mywork\n",
    "sns.countplot(y=data_mywork.tail(150)['skill'])"
   ]
  },
  {
   "cell_type": "code",
   "execution_count": 129,
   "metadata": {},
   "outputs": [
    {
     "data": {
      "text/plain": [
       "<matplotlib.axes._subplots.AxesSubplot at 0x7f2b4bc03748>"
      ]
     },
     "execution_count": 129,
     "metadata": {},
     "output_type": "execute_result"
    },
    {
     "data": {
      "image/png": "[encoded data removed]",
      "text/plain": [
       "<Figure size 576x432 with 1 Axes>"
      ]
     },
     "metadata": {
      "needs_background": "light"
     },
     "output_type": "display_data"
    }
   ],
   "source": [
    "# thong ke 100 luong dau tien cua mywork\n",
    "sns.countplot(y=data_mywork.head(150)['wage'])"
   ]
  },
  {
   "cell_type": "code",
   "execution_count": 130,
   "metadata": {},
   "outputs": [
    {
     "data": {
      "text/plain": [
       "count                    370\n",
       "unique                    37\n",
       "top       7 triệu - 10 triệu\n",
       "freq                     133\n",
       "Name: wage, dtype: object"
      ]
     },
     "execution_count": 130,
     "metadata": {},
     "output_type": "execute_result"
    }
   ],
   "source": [
    "data_mywork['wage'].describe()"
   ]
  },
  {
   "cell_type": "code",
   "execution_count": 131,
   "metadata": {},
   "outputs": [
    {
     "data": {
      "text/plain": [
       "count                       370\n",
       "unique                       29\n",
       "top       Thiết kế đồ họa - Web\n",
       "freq                         91\n",
       "Name: skill, dtype: object"
      ]
     },
     "execution_count": 131,
     "metadata": {},
     "output_type": "execute_result"
    }
   ],
   "source": [
    "data_mywork['skill'].describe()"
   ]
  },
  {
   "cell_type": "code",
   "execution_count": 132,
   "metadata": {},
   "outputs": [
    {
     "data": {
      "text/plain": [
       "count             370\n",
       "unique             18\n",
       "top       Ho Chi Minh\n",
       "freq              175\n",
       "Name: address, dtype: object"
      ]
     },
     "execution_count": 132,
     "metadata": {},
     "output_type": "execute_result"
    }
   ],
   "source": [
    "data_mywork['address'].describe()"
   ]
  },
  {
   "cell_type": "code",
   "execution_count": 133,
   "metadata": {},
   "outputs": [
    {
     "data": {
      "text/plain": [
       "count                                                   370\n",
       "unique                                                  292\n",
       "top       Tập đoàn CNTT Truyền thông Quảng cáo Việt Tiến...\n",
       "freq                                                      6\n",
       "Name: company, dtype: object"
      ]
     },
     "execution_count": 133,
     "metadata": {},
     "output_type": "execute_result"
    }
   ],
   "source": [
    "data_mywork['company'].describe()"
   ]
  },
  {
   "cell_type": "code",
   "execution_count": 134,
   "metadata": {},
   "outputs": [
    {
     "data": {
      "text/html": [
       "<div>\n",
       "<style scoped>\n",
       "    .dataframe tbody tr th:only-of-type {\n",
       "        vertical-align: middle;\n",
       "    }\n",
       "\n",
       "    .dataframe tbody tr th {\n",
       "        vertical-align: top;\n",
       "    }\n",
       "\n",
       "    .dataframe thead th {\n",
       "        text-align: right;\n",
       "    }\n",
       "</style>\n",
       "<table border=\"1\" class=\"dataframe\">\n",
       "  <thead>\n",
       "    <tr style=\"text-align: right;\">\n",
       "      <th></th>\n",
       "      <th>address</th>\n",
       "      <th>company</th>\n",
       "      <th>name</th>\n",
       "      <th>skill</th>\n",
       "      <th>url</th>\n",
       "      <th>wage</th>\n",
       "    </tr>\n",
       "  </thead>\n",
       "  <tbody>\n",
       "    <tr>\n",
       "      <th>count</th>\n",
       "      <td>350</td>\n",
       "      <td>350</td>\n",
       "      <td>350</td>\n",
       "      <td>350</td>\n",
       "      <td>350</td>\n",
       "      <td>350</td>\n",
       "    </tr>\n",
       "    <tr>\n",
       "      <th>unique</th>\n",
       "      <td>1</td>\n",
       "      <td>274</td>\n",
       "      <td>310</td>\n",
       "      <td>58</td>\n",
       "      <td>350</td>\n",
       "      <td>54</td>\n",
       "    </tr>\n",
       "    <tr>\n",
       "      <th>top</th>\n",
       "      <td>Ha Noi</td>\n",
       "      <td>Tập đoàn CNTT Truyền thông Quảng cáo Việt Tiến...</td>\n",
       "      <td>Nhân viên thiết kế</td>\n",
       "      <td>Thiết kế đồ họa - Web</td>\n",
       "      <td>https://mywork.com.vn/tuyen-dung/viec-lam/1224...</td>\n",
       "      <td>Negotiable</td>\n",
       "    </tr>\n",
       "    <tr>\n",
       "      <th>freq</th>\n",
       "      <td>350</td>\n",
       "      <td>6</td>\n",
       "      <td>9</td>\n",
       "      <td>35</td>\n",
       "      <td>1</td>\n",
       "      <td>126</td>\n",
       "    </tr>\n",
       "  </tbody>\n",
       "</table>\n",
       "</div>"
      ],
      "text/plain": [
       "       address                                            company  \\\n",
       "count      350                                                350   \n",
       "unique       1                                                274   \n",
       "top     Ha Noi  Tập đoàn CNTT Truyền thông Quảng cáo Việt Tiến...   \n",
       "freq       350                                                  6   \n",
       "\n",
       "                      name                  skill  \\\n",
       "count                  350                    350   \n",
       "unique                 310                     58   \n",
       "top     Nhân viên thiết kế  Thiết kế đồ họa - Web   \n",
       "freq                     9                     35   \n",
       "\n",
       "                                                      url        wage  \n",
       "count                                                 350         350  \n",
       "unique                                                350          54  \n",
       "top     https://mywork.com.vn/tuyen-dung/viec-lam/1224...  Negotiable  \n",
       "freq                                                    1         126  "
      ]
     },
     "execution_count": 134,
     "metadata": {},
     "output_type": "execute_result"
    }
   ],
   "source": [
    "# khu vuc Ha Noi cua mywork\n",
    "local_data_mywork = (result[result['address'] == 'Ha Noi'])\n",
    "local_data_mywork.describe()"
   ]
  },
  {
   "cell_type": "code",
   "execution_count": null,
   "metadata": {},
   "outputs": [],
   "source": []
  },
  {
   "cell_type": "code",
   "execution_count": null,
   "metadata": {},
   "outputs": [],
   "source": []
  },
  {
   "cell_type": "code",
   "execution_count": null,
   "metadata": {},
   "outputs": [],
   "source": []
  },
  {
   "cell_type": "code",
   "execution_count": null,
   "metadata": {},
   "outputs": [],
   "source": []
  },
  {
   "cell_type": "code",
   "execution_count": 138,
   "metadata": {},
   "outputs": [
    {
     "data": {
      "text/plain": [
       "<matplotlib.axes._subplots.AxesSubplot at 0x7f2b4bae0ba8>"
      ]
     },
     "execution_count": 138,
     "metadata": {},
     "output_type": "execute_result"
    },
    {
     "data": {
      "image/png": "[encoded data removed]",
      "text/plain": [
       "<Figure size 576x432 with 1 Axes>"
      ]
     },
     "metadata": {
      "needs_background": "light"
     },
     "output_type": "display_data"
    }
   ],
   "source": [
    "# thong ke 100 skill dau tien khu vuc Ha Noi cua mywork\n",
    "sns.countplot(y=local_data_mywork.head(100)['skill'])"
   ]
  },
  {
   "cell_type": "code",
   "execution_count": 148,
   "metadata": {},
   "outputs": [
    {
     "data": {
      "text/plain": [
       "<matplotlib.axes._subplots.AxesSubplot at 0x7f2b4b76ed30>"
      ]
     },
     "execution_count": 148,
     "metadata": {},
     "output_type": "execute_result"
    },
    {
     "data": {
      "image/png": "[encoded data removed]",
      "text/plain": [
       "<Figure size 576x432 with 1 Axes>"
      ]
     },
     "metadata": {
      "needs_background": "light"
     },
     "output_type": "display_data"
    }
   ],
   "source": [
    "sns.countplot(y=local_data_mywork.head(100)['wage'])"
   ]
  },
  {
   "cell_type": "code",
   "execution_count": null,
   "metadata": {},
   "outputs": [],
   "source": []
  },
  {
   "cell_type": "code",
   "execution_count": null,
   "metadata": {},
   "outputs": [],
   "source": []
  },
  {
   "cell_type": "code",
   "execution_count": null,
   "metadata": {},
   "outputs": [],
   "source": []
  },
  {
   "cell_type": "code",
   "execution_count": null,
   "metadata": {},
   "outputs": [],
   "source": []
  },
  {
   "cell_type": "code",
   "execution_count": null,
   "metadata": {},
   "outputs": [],
   "source": []
  },
  {
   "cell_type": "code",
   "execution_count": null,
   "metadata": {},
   "outputs": [],
   "source": []
  },
  {
   "cell_type": "code",
   "execution_count": null,
   "metadata": {},
   "outputs": [],
   "source": []
  },
  {
   "cell_type": "code",
   "execution_count": null,
   "metadata": {},
   "outputs": [],
   "source": []
  },
  {
   "cell_type": "code",
   "execution_count": null,
   "metadata": {},
   "outputs": [],
   "source": []
  },
  {
   "cell_type": "code",
   "execution_count": null,
   "metadata": {},
   "outputs": [],
   "source": []
  },
  {
   "cell_type": "code",
   "execution_count": null,
   "metadata": {},
   "outputs": [],
   "source": []
  },
  {
   "cell_type": "code",
   "execution_count": null,
   "metadata": {},
   "outputs": [],
   "source": []
  },
  {
   "cell_type": "code",
   "execution_count": null,
   "metadata": {},
   "outputs": [],
   "source": []
  },
  {
   "cell_type": "code",
   "execution_count": null,
   "metadata": {},
   "outputs": [],
   "source": []
  },
  {
   "cell_type": "code",
   "execution_count": null,
   "metadata": {},
   "outputs": [],
   "source": []
  },
  {
   "cell_type": "code",
   "execution_count": null,
   "metadata": {},
   "outputs": [],
   "source": []
  },
  {
   "cell_type": "code",
   "execution_count": null,
   "metadata": {},
   "outputs": [],
   "source": []
  },
  {
   "cell_type": "code",
   "execution_count": null,
   "metadata": {},
   "outputs": [],
   "source": []
  },
  {
   "cell_type": "code",
   "execution_count": null,
   "metadata": {},
   "outputs": [],
   "source": []
  },
  {
   "cell_type": "code",
   "execution_count": null,
   "metadata": {},
   "outputs": [],
   "source": []
  },
  {
   "cell_type": "code",
   "execution_count": null,
   "metadata": {},
   "outputs": [],
   "source": []
  },
  {
   "cell_type": "code",
   "execution_count": null,
   "metadata": {},
   "outputs": [],
   "source": []
  },
  {
   "cell_type": "code",
   "execution_count": null,
   "metadata": {},
   "outputs": [],
   "source": []
  },
  {
   "cell_type": "code",
   "execution_count": null,
   "metadata": {},
   "outputs": [],
   "source": []
  },
  {
   "cell_type": "code",
   "execution_count": null,
   "metadata": {},
   "outputs": [],
   "source": []
  },
  {
   "cell_type": "code",
   "execution_count": null,
   "metadata": {},
   "outputs": [],
   "source": []
  },
  {
   "cell_type": "code",
   "execution_count": null,
   "metadata": {},
   "outputs": [],
   "source": []
  },
  {
   "cell_type": "code",
   "execution_count": null,
   "metadata": {},
   "outputs": [],
   "source": []
  },
  {
   "cell_type": "code",
   "execution_count": null,
   "metadata": {},
   "outputs": [],
   "source": []
  },
  {
   "cell_type": "code",
   "execution_count": null,
   "metadata": {},
   "outputs": [],
   "source": []
  },
  {
   "cell_type": "code",
   "execution_count": null,
   "metadata": {},
   "outputs": [],
   "source": []
  },
  {
   "cell_type": "code",
   "execution_count": null,
   "metadata": {},
   "outputs": [],
   "source": []
  },
  {
   "cell_type": "code",
   "execution_count": null,
   "metadata": {},
   "outputs": [],
   "source": []
  },
  {
   "cell_type": "code",
   "execution_count": null,
   "metadata": {},
   "outputs": [],
   "source": []
  },
  {
   "cell_type": "code",
   "execution_count": null,
   "metadata": {},
   "outputs": [],
   "source": []
  },
  {
   "cell_type": "code",
   "execution_count": null,
   "metadata": {},
   "outputs": [],
   "source": []
  },
  {
   "cell_type": "code",
   "execution_count": null,
   "metadata": {},
   "outputs": [],
   "source": []
  },
  {
   "cell_type": "code",
   "execution_count": null,
   "metadata": {},
   "outputs": [],
   "source": []
  },
  {
   "cell_type": "code",
   "execution_count": null,
   "metadata": {},
   "outputs": [],
   "source": []
  },
  {
   "cell_type": "code",
   "execution_count": null,
   "metadata": {},
   "outputs": [],
   "source": []
  },
  {
   "cell_type": "code",
   "execution_count": null,
   "metadata": {},
   "outputs": [],
   "source": []
  },
  {
   "cell_type": "code",
   "execution_count": null,
   "metadata": {},
   "outputs": [],
   "source": []
  },
  {
   "cell_type": "code",
   "execution_count": null,
   "metadata": {},
   "outputs": [],
   "source": []
  },
  {
   "cell_type": "code",
   "execution_count": null,
   "metadata": {},
   "outputs": [],
   "source": []
  },
  {
   "cell_type": "code",
   "execution_count": null,
   "metadata": {},
   "outputs": [],
   "source": []
  },
  {
   "cell_type": "code",
   "execution_count": null,
   "metadata": {},
   "outputs": [],
   "source": []
  },
  {
   "cell_type": "code",
   "execution_count": null,
   "metadata": {},
   "outputs": [],
   "source": []
  },
  {
   "cell_type": "code",
   "execution_count": null,
   "metadata": {},
   "outputs": [],
   "source": []
  },
  {
   "cell_type": "code",
   "execution_count": null,
   "metadata": {},
   "outputs": [],
   "source": []
  },
  {
   "cell_type": "code",
   "execution_count": null,
   "metadata": {},
   "outputs": [],
   "source": []
  },
  {
   "cell_type": "code",
   "execution_count": null,
   "metadata": {},
   "outputs": [],
   "source": []
  },
  {
   "cell_type": "code",
   "execution_count": null,
   "metadata": {},
   "outputs": [],
   "source": []
  },
  {
   "cell_type": "code",
   "execution_count": null,
   "metadata": {},
   "outputs": [],
   "source": []
  },
  {
   "cell_type": "code",
   "execution_count": null,
   "metadata": {},
   "outputs": [],
   "source": []
  },
  {
   "cell_type": "code",
   "execution_count": null,
   "metadata": {},
   "outputs": [],
   "source": []
  },
  {
   "cell_type": "code",
   "execution_count": null,
   "metadata": {},
   "outputs": [],
   "source": []
  },
  {
   "cell_type": "code",
   "execution_count": null,
   "metadata": {},
   "outputs": [],
   "source": []
  },
  {
   "cell_type": "code",
   "execution_count": null,
   "metadata": {},
   "outputs": [],
   "source": []
  },
  {
   "cell_type": "code",
   "execution_count": null,
   "metadata": {},
   "outputs": [],
   "source": []
  },
  {
   "cell_type": "code",
   "execution_count": null,
   "metadata": {},
   "outputs": [],
   "source": []
  },
  {
   "cell_type": "code",
   "execution_count": null,
   "metadata": {},
   "outputs": [],
   "source": []
  },
  {
   "cell_type": "code",
   "execution_count": null,
   "metadata": {},
   "outputs": [],
   "source": []
  },
  {
   "cell_type": "code",
   "execution_count": null,
   "metadata": {},
   "outputs": [],
   "source": []
  },
  {
   "cell_type": "code",
   "execution_count": null,
   "metadata": {
    "scrolled": false
   },
   "outputs": [],
   "source": []
  },
  {
   "cell_type": "code",
   "execution_count": null,
   "metadata": {},
   "outputs": [],
   "source": []
  },
  {
   "cell_type": "code",
   "execution_count": null,
   "metadata": {},
   "outputs": [],
   "source": []
  },
  {
   "cell_type": "code",
   "execution_count": null,
   "metadata": {},
   "outputs": [],
   "source": []
  },
  {
   "cell_type": "code",
   "execution_count": null,
   "metadata": {},
   "outputs": [],
   "source": []
  },
  {
   "cell_type": "code",
   "execution_count": null,
   "metadata": {},
   "outputs": [],
   "source": []
  },
  {
   "cell_type": "code",
   "execution_count": null,
   "metadata": {},
   "outputs": [],
   "source": []
  },
  {
   "cell_type": "code",
   "execution_count": null,
   "metadata": {},
   "outputs": [],
   "source": []
  },
  {
   "cell_type": "code",
   "execution_count": null,
   "metadata": {},
   "outputs": [],
   "source": []
  },
  {
   "cell_type": "code",
   "execution_count": 8,
   "metadata": {},
   "outputs": [],
   "source": []
  },
  {
   "cell_type": "code",
   "execution_count": null,
   "metadata": {},
   "outputs": [],
   "source": []
  },
  {
   "cell_type": "code",
   "execution_count": null,
   "metadata": {},
   "outputs": [],
   "source": []
  },
  {
   "cell_type": "code",
   "execution_count": null,
   "metadata": {},
   "outputs": [],
   "source": []
  },
  {
   "cell_type": "code",
   "execution_count": 4,
   "metadata": {},
   "outputs": [],
   "source": []
  },
  {
   "cell_type": "code",
   "execution_count": null,
   "metadata": {},
   "outputs": [],
   "source": []
  },
  {
   "cell_type": "code",
   "execution_count": null,
   "metadata": {},
   "outputs": [],
   "source": []
  },
  {
   "cell_type": "code",
   "execution_count": null,
   "metadata": {},
   "outputs": [],
   "source": []
  },
  {
   "cell_type": "code",
   "execution_count": null,
   "metadata": {},
   "outputs": [],
   "source": []
  },
  {
   "cell_type": "code",
   "execution_count": null,
   "metadata": {},
   "outputs": [],
   "source": []
  },
  {
   "cell_type": "code",
   "execution_count": null,
   "metadata": {},
   "outputs": [],
   "source": []
  },
  {
   "cell_type": "code",
   "execution_count": null,
   "metadata": {},
   "outputs": [],
   "source": []
  },
  {
   "cell_type": "code",
   "execution_count": null,
   "metadata": {},
   "outputs": [],
   "source": []
  },
  {
   "cell_type": "code",
   "execution_count": null,
   "metadata": {},
   "outputs": [],
   "source": []
  },
  {
   "cell_type": "code",
   "execution_count": null,
   "metadata": {},
   "outputs": [],
   "source": []
  },
  {
   "cell_type": "code",
   "execution_count": null,
   "metadata": {},
   "outputs": [],
   "source": []
  },
  {
   "cell_type": "code",
   "execution_count": null,
   "metadata": {},
   "outputs": [],
   "source": []
  },
  {
   "cell_type": "code",
   "execution_count": null,
   "metadata": {},
   "outputs": [],
   "source": []
  },
  {
   "cell_type": "code",
   "execution_count": null,
   "metadata": {},
   "outputs": [],
   "source": []
  },
  {
   "cell_type": "code",
   "execution_count": null,
   "metadata": {},
   "outputs": [],
   "source": []
  },
  {
   "cell_type": "code",
   "execution_count": null,
   "metadata": {},
   "outputs": [],
   "source": []
  },
  {
   "cell_type": "code",
   "execution_count": null,
   "metadata": {},
   "outputs": [],
   "source": []
  },
  {
   "cell_type": "code",
   "execution_count": null,
   "metadata": {},
   "outputs": [],
   "source": []
  },
  {
   "cell_type": "code",
   "execution_count": null,
   "metadata": {},
   "outputs": [],
   "source": []
  },
  {
   "cell_type": "code",
   "execution_count": null,
   "metadata": {},
   "outputs": [],
   "source": []
  },
  {
   "cell_type": "code",
   "execution_count": null,
   "metadata": {},
   "outputs": [],
   "source": []
  },
  {
   "cell_type": "code",
   "execution_count": null,
   "metadata": {},
   "outputs": [],
   "source": []
  },
  {
   "cell_type": "code",
   "execution_count": null,
   "metadata": {},
   "outputs": [],
   "source": []
  },
  {
   "cell_type": "code",
   "execution_count": null,
   "metadata": {},
   "outputs": [],
   "source": []
  },
  {
   "cell_type": "code",
   "execution_count": null,
   "metadata": {},
   "outputs": [],
   "source": []
  },
  {
   "cell_type": "code",
   "execution_count": 23,
   "metadata": {},
   "outputs": [],
   "source": []
  },
  {
   "cell_type": "code",
   "execution_count": null,
   "metadata": {},
   "outputs": [],
   "source": []
  },
  {
   "cell_type": "code",
   "execution_count": null,
   "metadata": {},
   "outputs": [],
   "source": []
  },
  {
   "cell_type": "code",
   "execution_count": null,
   "metadata": {},
   "outputs": [],
   "source": []
  },
  {
   "cell_type": "code",
   "execution_count": null,
   "metadata": {},
   "outputs": [],
   "source": []
  },
  {
   "cell_type": "code",
   "execution_count": null,
   "metadata": {},
   "outputs": [],
   "source": []
  },
  {
   "cell_type": "code",
   "execution_count": null,
   "metadata": {},
   "outputs": [],
   "source": []
  },
  {
   "cell_type": "code",
   "execution_count": null,
   "metadata": {},
   "outputs": [],
   "source": []
  },
  {
   "cell_type": "code",
   "execution_count": null,
   "metadata": {},
   "outputs": [],
   "source": []
  },
  {
   "cell_type": "code",
   "execution_count": null,
   "metadata": {},
   "outputs": [],
   "source": []
  },
  {
   "cell_type": "code",
   "execution_count": null,
   "metadata": {},
   "outputs": [],
   "source": []
  },
  {
   "cell_type": "code",
   "execution_count": null,
   "metadata": {},
   "outputs": [],
   "source": []
  },
  {
   "cell_type": "code",
   "execution_count": 30,
   "metadata": {},
   "outputs": [],
   "source": []
  },
  {
   "cell_type": "code",
   "execution_count": null,
   "metadata": {},
   "outputs": [],
   "source": []
  },
  {
   "cell_type": "code",
   "execution_count": null,
   "metadata": {},
   "outputs": [],
   "source": []
  },
  {
   "cell_type": "code",
   "execution_count": null,
   "metadata": {},
   "outputs": [],
   "source": []
  },
  {
   "cell_type": "code",
   "execution_count": null,
   "metadata": {},
   "outputs": [],
   "source": []
  },
  {
   "cell_type": "code",
   "execution_count": null,
   "metadata": {},
   "outputs": [],
   "source": []
  },
  {
   "cell_type": "code",
   "execution_count": null,
   "metadata": {},
   "outputs": [],
   "source": []
  },
  {
   "cell_type": "code",
   "execution_count": null,
   "metadata": {},
   "outputs": [],
   "source": []
  },
  {
   "cell_type": "code",
   "execution_count": null,
   "metadata": {},
   "outputs": [],
   "source": []
  },
  {
   "cell_type": "code",
   "execution_count": null,
   "metadata": {},
   "outputs": [],
   "source": []
  },
  {
   "cell_type": "code",
   "execution_count": null,
   "metadata": {},
   "outputs": [],
   "source": []
  },
  {
   "cell_type": "code",
   "execution_count": null,
   "metadata": {},
   "outputs": [],
   "source": []
  },
  {
   "cell_type": "code",
   "execution_count": null,
   "metadata": {},
   "outputs": [],
   "source": []
  },
  {
   "cell_type": "code",
   "execution_count": null,
   "metadata": {},
   "outputs": [],
   "source": []
  },
  {
   "cell_type": "code",
   "execution_count": null,
   "metadata": {},
   "outputs": [],
   "source": []
  },
  {
   "cell_type": "code",
   "execution_count": null,
   "metadata": {},
   "outputs": [],
   "source": []
  },
  {
   "cell_type": "code",
   "execution_count": null,
   "metadata": {},
   "outputs": [],
   "source": []
  },
  {
   "cell_type": "code",
   "execution_count": null,
   "metadata": {},
   "outputs": [],
   "source": []
  },
  {
   "cell_type": "code",
   "execution_count": null,
   "metadata": {},
   "outputs": [],
   "source": []
  },
  {
   "cell_type": "code",
   "execution_count": null,
   "metadata": {},
   "outputs": [],
   "source": []
  },
  {
   "cell_type": "code",
   "execution_count": null,
   "metadata": {},
   "outputs": [],
   "source": []
  },
  {
   "cell_type": "code",
   "execution_count": null,
   "metadata": {},
   "outputs": [],
   "source": []
  },
  {
   "cell_type": "code",
   "execution_count": null,
   "metadata": {},
   "outputs": [],
   "source": []
  },
  {
   "cell_type": "code",
   "execution_count": null,
   "metadata": {},
   "outputs": [],
   "source": []
  },
  {
   "cell_type": "code",
   "execution_count": null,
   "metadata": {},
   "outputs": [],
   "source": []
  },
  {
   "cell_type": "code",
   "execution_count": null,
   "metadata": {},
   "outputs": [],
   "source": []
  },
  {
   "cell_type": "code",
   "execution_count": null,
   "metadata": {},
   "outputs": [],
   "source": []
  },
  {
   "cell_type": "code",
   "execution_count": null,
   "metadata": {},
   "outputs": [],
   "source": []
  },
  {
   "cell_type": "code",
   "execution_count": null,
   "metadata": {},
   "outputs": [],
   "source": []
  },
  {
   "cell_type": "code",
   "execution_count": null,
   "metadata": {},
   "outputs": [],
   "source": []
  },
  {
   "cell_type": "code",
   "execution_count": null,
   "metadata": {},
   "outputs": [],
   "source": []
  },
  {
   "cell_type": "code",
   "execution_count": null,
   "metadata": {},
   "outputs": [],
   "source": []
  },
  {
   "cell_type": "code",
   "execution_count": null,
   "metadata": {},
   "outputs": [],
   "source": []
  },
  {
   "cell_type": "code",
   "execution_count": null,
   "metadata": {},
   "outputs": [],
   "source": []
  },
  {
   "cell_type": "code",
   "execution_count": null,
   "metadata": {},
   "outputs": [],
   "source": []
  },
  {
   "cell_type": "code",
   "execution_count": null,
   "metadata": {},
   "outputs": [],
   "source": []
  },
  {
   "cell_type": "code",
   "execution_count": null,
   "metadata": {},
   "outputs": [],
   "source": []
  },
  {
   "cell_type": "code",
   "execution_count": null,
   "metadata": {},
   "outputs": [],
   "source": []
  },
  {
   "cell_type": "code",
   "execution_count": null,
   "metadata": {},
   "outputs": [],
   "source": []
  },
  {
   "cell_type": "code",
   "execution_count": null,
   "metadata": {},
   "outputs": [],
   "source": []
  },
  {
   "cell_type": "code",
   "execution_count": null,
   "metadata": {},
   "outputs": [],
   "source": []
  },
  {
   "cell_type": "code",
   "execution_count": null,
   "metadata": {},
   "outputs": [],
   "source": []
  },
  {
   "cell_type": "code",
   "execution_count": null,
   "metadata": {},
   "outputs": [],
   "source": []
  },
  {
   "cell_type": "code",
   "execution_count": null,
   "metadata": {},
   "outputs": [],
   "source": []
  },
  {
   "cell_type": "code",
   "execution_count": null,
   "metadata": {
    "scrolled": false
   },
   "outputs": [],
   "source": []
  },
  {
   "cell_type": "code",
   "execution_count": null,
   "metadata": {},
   "outputs": [],
   "source": []
  },
  {
   "cell_type": "code",
   "execution_count": null,
   "metadata": {},
   "outputs": [],
   "source": []
  },
  {
   "cell_type": "code",
   "execution_count": null,
   "metadata": {},
   "outputs": [],
   "source": []
  },
  {
   "cell_type": "code",
   "execution_count": null,
   "metadata": {},
   "outputs": [],
   "source": []
  },
  {
   "cell_type": "code",
   "execution_count": null,
   "metadata": {},
   "outputs": [],
   "source": []
  },
  {
   "cell_type": "code",
   "execution_count": null,
   "metadata": {},
   "outputs": [],
   "source": []
  },
  {
   "cell_type": "code",
   "execution_count": null,
   "metadata": {},
   "outputs": [],
   "source": []
  },
  {
   "cell_type": "code",
   "execution_count": null,
   "metadata": {},
   "outputs": [],
   "source": []
  },
  {
   "cell_type": "code",
   "execution_count": null,
   "metadata": {},
   "outputs": [],
   "source": []
  },
  {
   "cell_type": "code",
   "execution_count": null,
   "metadata": {},
   "outputs": [],
   "source": []
  },
  {
   "cell_type": "code",
   "execution_count": null,
   "metadata": {},
   "outputs": [],
   "source": []
  },
  {
   "cell_type": "code",
   "execution_count": null,
   "metadata": {},
   "outputs": [],
   "source": []
  },
  {
   "cell_type": "code",
   "execution_count": null,
   "metadata": {},
   "outputs": [],
   "source": []
  },
  {
   "cell_type": "code",
   "execution_count": null,
   "metadata": {},
   "outputs": [],
   "source": []
  },
  {
   "cell_type": "code",
   "execution_count": null,
   "metadata": {},
   "outputs": [],
   "source": []
  },
  {
   "cell_type": "code",
   "execution_count": null,
   "metadata": {},
   "outputs": [],
   "source": []
  },
  {
   "cell_type": "code",
   "execution_count": null,
   "metadata": {},
   "outputs": [],
   "source": []
  },
  {
   "cell_type": "code",
   "execution_count": null,
   "metadata": {},
   "outputs": [],
   "source": []
  },
  {
   "cell_type": "code",
   "execution_count": null,
   "metadata": {},
   "outputs": [],
   "source": []
  },
  {
   "cell_type": "code",
   "execution_count": null,
   "metadata": {},
   "outputs": [],
   "source": []
  },
  {
   "cell_type": "code",
   "execution_count": null,
   "metadata": {},
   "outputs": [],
   "source": []
  },
  {
   "cell_type": "code",
   "execution_count": null,
   "metadata": {},
   "outputs": [],
   "source": []
  },
  {
   "cell_type": "code",
   "execution_count": null,
   "metadata": {},
   "outputs": [],
   "source": []
  },
  {
   "cell_type": "code",
   "execution_count": null,
   "metadata": {},
   "outputs": [],
   "source": []
  },
  {
   "cell_type": "code",
   "execution_count": null,
   "metadata": {},
   "outputs": [],
   "source": []
  },
  {
   "cell_type": "code",
   "execution_count": null,
   "metadata": {},
   "outputs": [],
   "source": []
  },
  {
   "cell_type": "code",
   "execution_count": null,
   "metadata": {},
   "outputs": [],
   "source": []
  },
  {
   "cell_type": "code",
   "execution_count": null,
   "metadata": {},
   "outputs": [],
   "source": []
  },
  {
   "cell_type": "code",
   "execution_count": null,
   "metadata": {},
   "outputs": [],
   "source": []
  },
  {
   "cell_type": "code",
   "execution_count": null,
   "metadata": {},
   "outputs": [],
   "source": []
  },
  {
   "cell_type": "code",
   "execution_count": null,
   "metadata": {},
   "outputs": [],
   "source": []
  },
  {
   "cell_type": "code",
   "execution_count": null,
   "metadata": {},
   "outputs": [],
   "source": []
  },
  {
   "cell_type": "code",
   "execution_count": null,
   "metadata": {},
   "outputs": [],
   "source": []
  },
  {
   "cell_type": "code",
   "execution_count": null,
   "metadata": {},
   "outputs": [],
   "source": []
  },
  {
   "cell_type": "code",
   "execution_count": null,
   "metadata": {},
   "outputs": [],
   "source": []
  },
  {
   "cell_type": "code",
   "execution_count": null,
   "metadata": {},
   "outputs": [],
   "source": []
  },
  {
   "cell_type": "code",
   "execution_count": null,
   "metadata": {
    "scrolled": false
   },
   "outputs": [],
   "source": []
  },
  {
   "cell_type": "code",
   "execution_count": null,
   "metadata": {},
   "outputs": [],
   "source": []
  },
  {
   "cell_type": "code",
   "execution_count": null,
   "metadata": {},
   "outputs": [],
   "source": []
  },
  {
   "cell_type": "code",
   "execution_count": null,
   "metadata": {},
   "outputs": [],
   "source": []
  },
  {
   "cell_type": "code",
   "execution_count": null,
   "metadata": {},
   "outputs": [],
   "source": []
  },
  {
   "cell_type": "code",
   "execution_count": null,
   "metadata": {},
   "outputs": [],
   "source": []
  },
  {
   "cell_type": "code",
   "execution_count": null,
   "metadata": {},
   "outputs": [],
   "source": []
  },
  {
   "cell_type": "code",
   "execution_count": null,
   "metadata": {},
   "outputs": [],
   "source": []
  },
  {
   "cell_type": "code",
   "execution_count": null,
   "metadata": {},
   "outputs": [],
   "source": []
  },
  {
   "cell_type": "code",
   "execution_count": null,
   "metadata": {},
   "outputs": [],
   "source": []
  },
  {
   "cell_type": "code",
   "execution_count": null,
   "metadata": {},
   "outputs": [],
   "source": []
  },
  {
   "cell_type": "code",
   "execution_count": null,
   "metadata": {},
   "outputs": [],
   "source": []
  },
  {
   "cell_type": "code",
   "execution_count": null,
   "metadata": {},
   "outputs": [],
   "source": []
  },
  {
   "cell_type": "code",
   "execution_count": null,
   "metadata": {},
   "outputs": [],
   "source": []
  },
  {
   "cell_type": "code",
   "execution_count": null,
   "metadata": {},
   "outputs": [],
   "source": []
  },
  {
   "cell_type": "code",
   "execution_count": null,
   "metadata": {},
   "outputs": [],
   "source": []
  },
  {
   "cell_type": "code",
   "execution_count": null,
   "metadata": {},
   "outputs": [],
   "source": []
  },
  {
   "cell_type": "code",
   "execution_count": null,
   "metadata": {},
   "outputs": [],
   "source": []
  },
  {
   "cell_type": "code",
   "execution_count": null,
   "metadata": {},
   "outputs": [],
   "source": []
  },
  {
   "cell_type": "code",
   "execution_count": null,
   "metadata": {},
   "outputs": [],
   "source": []
  },
  {
   "cell_type": "code",
   "execution_count": null,
   "metadata": {},
   "outputs": [],
   "source": []
  },
  {
   "cell_type": "code",
   "execution_count": null,
   "metadata": {},
   "outputs": [],
   "source": []
  },
  {
   "cell_type": "code",
   "execution_count": null,
   "metadata": {},
   "outputs": [],
   "source": []
  },
  {
   "cell_type": "code",
   "execution_count": null,
   "metadata": {},
   "outputs": [],
   "source": []
  },
  {
   "cell_type": "code",
   "execution_count": null,
   "metadata": {},
   "outputs": [],
   "source": []
  },
  {
   "cell_type": "code",
   "execution_count": null,
   "metadata": {},
   "outputs": [],
   "source": []
  },
  {
   "cell_type": "code",
   "execution_count": null,
   "metadata": {},
   "outputs": [],
   "source": []
  },
  {
   "cell_type": "code",
   "execution_count": null,
   "metadata": {},
   "outputs": [],
   "source": []
  },
  {
   "cell_type": "code",
   "execution_count": null,
   "metadata": {},
   "outputs": [],
   "source": []
  },
  {
   "cell_type": "code",
   "execution_count": null,
   "metadata": {},
   "outputs": [],
   "source": []
  },
  {
   "cell_type": "code",
   "execution_count": null,
   "metadata": {},
   "outputs": [],
   "source": []
  },
  {
   "cell_type": "code",
   "execution_count": null,
   "metadata": {},
   "outputs": [],
   "source": []
  },
  {
   "cell_type": "code",
   "execution_count": null,
   "metadata": {},
   "outputs": [],
   "source": []
  },
  {
   "cell_type": "code",
   "execution_count": null,
   "metadata": {},
   "outputs": [],
   "source": []
  },
  {
   "cell_type": "code",
   "execution_count": null,
   "metadata": {},
   "outputs": [],
   "source": []
  },
  {
   "cell_type": "code",
   "execution_count": null,
   "metadata": {},
   "outputs": [],
   "source": []
  },
  {
   "cell_type": "code",
   "execution_count": null,
   "metadata": {},
   "outputs": [],
   "source": []
  },
  {
   "cell_type": "code",
   "execution_count": null,
   "metadata": {},
   "outputs": [],
   "source": []
  },
  {
   "cell_type": "code",
   "execution_count": null,
   "metadata": {},
   "outputs": [],
   "source": []
  },
  {
   "cell_type": "code",
   "execution_count": null,
   "metadata": {},
   "outputs": [],
   "source": []
  },
  {
   "cell_type": "code",
   "execution_count": null,
   "metadata": {},
   "outputs": [],
   "source": []
  },
  {
   "cell_type": "code",
   "execution_count": null,
   "metadata": {},
   "outputs": [],
   "source": []
  },
  {
   "cell_type": "code",
   "execution_count": null,
   "metadata": {},
   "outputs": [],
   "source": []
  },
  {
   "cell_type": "code",
   "execution_count": null,
   "metadata": {},
   "outputs": [],
   "source": []
  },
  {
   "cell_type": "code",
   "execution_count": null,
   "metadata": {},
   "outputs": [],
   "source": []
  },
  {
   "cell_type": "code",
   "execution_count": null,
   "metadata": {},
   "outputs": [],
   "source": []
  },
  {
   "cell_type": "code",
   "execution_count": null,
   "metadata": {},
   "outputs": [],
   "source": []
  },
  {
   "cell_type": "code",
   "execution_count": null,
   "metadata": {},
   "outputs": [],
   "source": []
  },
  {
   "cell_type": "code",
   "execution_count": null,
   "metadata": {},
   "outputs": [],
   "source": []
  },
  {
   "cell_type": "code",
   "execution_count": null,
   "metadata": {},
   "outputs": [],
   "source": []
  },
  {
   "cell_type": "code",
   "execution_count": null,
   "metadata": {},
   "outputs": [],
   "source": []
  },
  {
   "cell_type": "code",
   "execution_count": null,
   "metadata": {},
   "outputs": [],
   "source": []
  },
  {
   "cell_type": "code",
   "execution_count": null,
   "metadata": {},
   "outputs": [],
   "source": []
  },
  {
   "cell_type": "code",
   "execution_count": null,
   "metadata": {},
   "outputs": [],
   "source": []
  },
  {
   "cell_type": "code",
   "execution_count": null,
   "metadata": {},
   "outputs": [],
   "source": []
  },
  {
   "cell_type": "code",
   "execution_count": null,
   "metadata": {},
   "outputs": [],
   "source": []
  },
  {
   "cell_type": "code",
   "execution_count": null,
   "metadata": {},
   "outputs": [],
   "source": []
  },
  {
   "cell_type": "code",
   "execution_count": null,
   "metadata": {},
   "outputs": [],
   "source": []
  },
  {
   "cell_type": "code",
   "execution_count": null,
   "metadata": {},
   "outputs": [],
   "source": []
  },
  {
   "cell_type": "code",
   "execution_count": null,
   "metadata": {},
   "outputs": [],
   "source": []
  },
  {
   "cell_type": "code",
   "execution_count": null,
   "metadata": {},
   "outputs": [],
   "source": []
  },
  {
   "cell_type": "code",
   "execution_count": null,
   "metadata": {},
   "outputs": [],
   "source": []
  },
  {
   "cell_type": "code",
   "execution_count": null,
   "metadata": {},
   "outputs": [],
   "source": []
  },
  {
   "cell_type": "code",
   "execution_count": null,
   "metadata": {},
   "outputs": [],
   "source": []
  },
  {
   "cell_type": "code",
   "execution_count": null,
   "metadata": {},
   "outputs": [],
   "source": []
  },
  {
   "cell_type": "code",
   "execution_count": null,
   "metadata": {},
   "outputs": [],
   "source": []
  },
  {
   "cell_type": "code",
   "execution_count": null,
   "metadata": {},
   "outputs": [],
   "source": []
  },
  {
   "cell_type": "code",
   "execution_count": null,
   "metadata": {},
   "outputs": [],
   "source": []
  },
  {
   "cell_type": "code",
   "execution_count": null,
   "metadata": {},
   "outputs": [],
   "source": []
  },
  {
   "cell_type": "code",
   "execution_count": null,
   "metadata": {},
   "outputs": [],
   "source": []
  },
  {
   "cell_type": "code",
   "execution_count": null,
   "metadata": {},
   "outputs": [],
   "source": []
  },
  {
   "cell_type": "code",
   "execution_count": null,
   "metadata": {},
   "outputs": [],
   "source": []
  },
  {
   "cell_type": "code",
   "execution_count": null,
   "metadata": {},
   "outputs": [],
   "source": []
  },
  {
   "cell_type": "code",
   "execution_count": null,
   "metadata": {},
   "outputs": [],
   "source": []
  }
 ],
 "metadata": {
  "kernelspec": {
   "display_name": "Python 3",
   "language": "python",
   "name": "python3"
  },
  "language_info": {
   "codemirror_mode": {
    "name": "ipython",
    "version": 3
   },
   "file_extension": ".py",
   "mimetype": "text/x-python",
   "name": "python",
   "nbconvert_exporter": "python",
   "pygments_lexer": "ipython3",
   "version": "3.5.6"
  }
 },
 "nbformat": 4,
 "nbformat_minor": 2
}
